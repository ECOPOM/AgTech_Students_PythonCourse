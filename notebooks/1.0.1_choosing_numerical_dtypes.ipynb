{
 "cells": [
  {
   "cell_type": "markdown",
   "metadata": {},
   "source": [
    "&copy; Mirko Piani - *PhD student in Precision Orchard Management (POM), university of Bologna (IT)*\n",
    "___\n",
    "\n",
    "If you are having problems with the notebook, contact me at mirko.piani2@unibo.it"
   ]
  },
  {
   "cell_type": "markdown",
   "metadata": {},
   "source": []
  },
  {
   "cell_type": "markdown",
   "metadata": {},
   "source": [
    "### How to Understand the Datatype You Need for Numeric Values\n",
    "\n",
    "To understand the datatype you need for numeric values, you should consider several factors such as:\n",
    "1.  the range of values, \n",
    "2.  the precision required, \n",
    "3.  the storage efficiency, \n",
    "4.  the operations you plan to perform. \n",
    "\n",
    "\n",
    "Here’s a guide to help you determine the appropriate datatype for numeric values:\n",
    "\n",
    "#### 1. Range of Values\n",
    "\n",
    "- **Integers**: \n",
    "  - Use integer types for whole numbers. Depending on the range of values, you might choose between different sizes of integers (e.g., `int` or `int8`, `int16`, `int32`, `int64` in other languages).\n",
    "  - For example, in Python, `int` can handle arbitrary precision integers, but you may need to choose:\n",
    "    - `int8` (−128 to 127)\n",
    "    - `int16` (−32,768 to 32,767)\n",
    "    - `int32` (−2,147,483,648 to 2,147,483,647)\n",
    "    - `int64` (−9,223,372,036,854,775,808 to 9,223,372,036,854,775,807)\n",
    "    \n",
    "- **Floating-point numbers**: \n",
    "  - Use floating-point types for numbers that require fractional values or very large ranges.\n",
    "  - Common types include `float` and `double`:\n",
    "    - `float32` (single precision, roughly 6-7 decimal digits of precision)\n",
    "    - `float64` (double precision, roughly 15-16 decimal digits of precision)\n",
    "\n",
    "#### 2. Precision Required\n",
    "\n",
    "- **Fixed-point vs Floating-point**: \n",
    "  - For financial calculations or other scenarios requiring exact decimal representation, consider using fixed-point decimal types (`decimal.Decimal` in Python) to avoid rounding errors inherent in floating-point representations.\n",
    "  - For scientific calculations, floating-point types (`float` or `double`) are usually sufficient.\n",
    "\n",
    "#### 3. Storage Efficiency\n",
    "\n",
    "- Choose a datatype that is sufficient to represent your data without consuming unnecessary memory. For instance, using a `float64` for a simple counter is inefficient.\n",
    "\n",
    "#### 4. Operations\n",
    "\n",
    "- **Mathematical Operations**:\n",
    "  - If your application involves complex mathematical computations, consider the numerical stability and precision of the datatype.\n",
    "- **Big Data**:\n",
    "  - For large datasets, consider the memory footprint and computational efficiency. Sometimes, `float32` is chosen over `float64` to save memory if precision is not critically important.\n",
    "\n",
    "### Examples in Python\n",
    "\n",
    "```python\n",
    "import numpy as np\n",
    "import decimal\n",
    "\n",
    "# Integer types\n",
    "small_int = np.int8(127)\n",
    "medium_int = np.int32(2147483647)\n",
    "large_int = np.int64(9223372036854775807)\n",
    "\n",
    "# Floating-point types\n",
    "small_float = np.float32(3.14159)\n",
    "large_float = np.float64(3.141592653589793)\n",
    "\n",
    "# Decimal for fixed-point arithmetic\n",
    "fixed_point_decimal = decimal.Decimal('3.14159')\n",
    "\n",
    "# Using native Python types for arbitrary precision\n",
    "native_int = 9223372036854775807  # int in Python 3\n",
    "native_float = 3.141592653589793  # float in Python\n"
   ]
  }
 ],
 "metadata": {
  "kernelspec": {
   "display_name": "venv",
   "language": "python",
   "name": "python3"
  },
  "language_info": {
   "codemirror_mode": {
    "name": "ipython",
    "version": 3
   },
   "file_extension": ".py",
   "mimetype": "text/x-python",
   "name": "python",
   "nbconvert_exporter": "python",
   "pygments_lexer": "ipython3",
   "version": "3.10.12"
  }
 },
 "nbformat": 4,
 "nbformat_minor": 2
}
