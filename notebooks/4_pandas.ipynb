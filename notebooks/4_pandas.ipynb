{
 "cells": [
  {
   "cell_type": "markdown",
   "metadata": {},
   "source": [
    "&copy; Mirko Piani - *PhD student in Precision Orchard Management (POM), university of Bologna (IT)*\n",
    "___\n",
    "\n",
    "If you are having problems with the notebook, contact me at mirko.piani2@unibo.it"
   ]
  },
  {
   "cell_type": "markdown",
   "metadata": {},
   "source": [
    "![pandas-logo](https://pandas.pydata.org/static/img/pandas_white.svg)"
   ]
  },
  {
   "cell_type": "markdown",
   "metadata": {},
   "source": [
    "The **material** used in this notebook can be found in [data](data/) folder:\n",
    "- [weather_2022_h.csv](data/text_delimited/weather_2022_h.csv)\n",
    "- [weather2022.xlsx](data/spreadsheet/weather2022.xlsx)\n",
    "- [fruit_gauge.csv](data/text_delimited/fruit_gauge.csv)"
   ]
  },
  {
   "cell_type": "markdown",
   "metadata": {},
   "source": [
    "# Introduction"
   ]
  },
  {
   "cell_type": "markdown",
   "metadata": {},
   "source": [
    "## What is a Pandas Series"
   ]
  },
  {
   "cell_type": "markdown",
   "metadata": {},
   "source": [
    "A Series is a **one-dimensional** labeled array that can hold any data type such as integers, strings, floating-point numbers, etc. It is similar to a column in an Excel spreadsheet or a database table.\n",
    "\n",
    "The main characteristic of *Series* is that they contain a single column of data (*vector*)."
   ]
  },
  {
   "cell_type": "markdown",
   "metadata": {},
   "source": [
    "## What is a Pandas DataFrames\n",
    "Dataframe is a **tabular** (rows, columns) - *records, fields* - representation of data. It is a **two-dimensional** data structure with potentially heterogeneous data. It is similar to an entire spreadsheet.\n",
    "\n",
    "Dataframe is a **size-mutable** structure that means data can be added or deleted from it, unlike data series, which does not allow operations that change its size.\n",
    "\n",
    "<div>\n",
    "<img src=\"../docs/.readme_images/dataframe.png\" width=\"600\"/>\n",
    "</div>"
   ]
  },
  {
   "cell_type": "markdown",
   "metadata": {},
   "source": [
    "**Differences Between Pandas `Series` and `DataFrames`**\n",
    "\n",
    "| Feature         | Pandas Series                                                    | Pandas DataFrame                                                |\n",
    "|-----------------|------------------------------------------------------------------|-----------------------------------------------------------------|\n",
    "| Definition      | A one-dimensional labeled array capable of holding any data type (integers, strings, floating point numbers, etc.). | A two-dimensional labeled data structure with columns of potentially different types. |\n",
    "| Dimensions      | 1-Dimensional (1D)                                               | 2-Dimensional (2D)                                              |\n",
    "| Data Structure  | Single column of data                                            | Tabular data consisting of rows and columns                     |\n",
    "| Indexing        | Can be indexed by a single label                                  | Can be indexed by rows (index) and columns                      |\n",
    "| Creation        | `pd.Series([1, 2, 3])`                                           | `pd.DataFrame({'col1': [1, 2], 'col2': [3, 4]})`                |\n",
    "| Data Access     | Accessed using a single label, e.g., `s[0]`                      | Accessed using row and column labels, e.g., `df['col1'][0]`     |\n",
    "| Operations      | Operations are element-wise                                      | Operations can be performed across rows, columns, or element-wise|\n",
    "| Homogeneity     | All elements in a Series must be of the same data type           | Different columns can have different data types                 |\n",
    "| Use Case        | Used for storing and manipulating a single column or array of data | Used for storing and manipulating tabular/multi-dimensional data |\n",
    "| Conversion      | Can be converted to DataFrame using `s.to_frame()`               | Can be converted to Series by selecting a single column, e.g., `df['col1']` |\n",
    "| Example         | `pd.Series([1, 2, 3, 4])`                                        | `pd.DataFrame({'A': [1, 2], 'B': [3, 4]})`                      |\n",
    "\n",
    "\n",
    "\n",
    "Naming defaults:\n",
    "| Operator | Description |\n",
    "|:----: |:---- |\n",
    "| **`df`** | **pandas DataFrame object** | \n",
    "| **`s`**  | **pandas Series object** |"
   ]
  },
  {
   "cell_type": "markdown",
   "metadata": {},
   "source": [
    "# Use Pandas"
   ]
  },
  {
   "cell_type": "markdown",
   "metadata": {},
   "source": [
    "import pandas"
   ]
  },
  {
   "cell_type": "code",
   "execution_count": 2,
   "metadata": {},
   "outputs": [],
   "source": [
    "import pandas as pd"
   ]
  },
  {
   "cell_type": "markdown",
   "metadata": {},
   "source": [
    "use pandas calling it `pd`"
   ]
  },
  {
   "cell_type": "markdown",
   "metadata": {},
   "source": [
    "# read data"
   ]
  },
  {
   "cell_type": "code",
   "execution_count": 44,
   "metadata": {},
   "outputs": [
    {
     "name": "stdout",
     "output_type": "stream",
     "text": [
      "                  TimeStamp  MeasuredFruitSize\n",
      "0      05-Jul-2023 19:07:22          45.582827\n",
      "1      05-Jul-2023 19:10:22          45.583562\n",
      "2      05-Jul-2023 19:13:22          45.584263\n",
      "3      05-Jul-2023 19:16:24          45.584992\n",
      "4      05-Jul-2023 19:19:26          45.584992\n",
      "...                     ...                ...\n",
      "62453  20-Oct-2023 20:54:44           0.000000\n",
      "62454  20-Oct-2023 20:55:01           0.000000\n",
      "62455  20-Oct-2023 20:57:44           0.000000\n",
      "62456  20-Oct-2023 20:58:00           0.000000\n",
      "62457  20-Oct-2023 21:00:44           0.000000\n",
      "\n",
      "[62458 rows x 2 columns]\n"
     ]
    }
   ],
   "source": [
    "# import data from a CSV file into a dataframe (df) object\n",
    "df = pd.read_csv('../data/text_delimited/fruit_gauge.csv')\n",
    "\n",
    "print(df)"
   ]
  },
  {
   "cell_type": "markdown",
   "metadata": {},
   "source": [
    "by printing the `dataframe` it is possible to notice that it has *62458* records and *2* columns named `TimeStamp` and `MeasuredFruitSize`"
   ]
  },
  {
   "cell_type": "markdown",
   "metadata": {},
   "source": [
    "# Define the `dtype`"
   ]
  },
  {
   "cell_type": "markdown",
   "metadata": {},
   "source": [
    "get **data type**"
   ]
  },
  {
   "cell_type": "code",
   "execution_count": 28,
   "metadata": {},
   "outputs": [
    {
     "name": "stdout",
     "output_type": "stream",
     "text": [
      "TimeStamp             object\n",
      "MeasuredFruitSize    float64\n",
      "dtype: object\n"
     ]
    }
   ],
   "source": [
    "print(df.dtypes)"
   ]
  },
  {
   "cell_type": "markdown",
   "metadata": {},
   "source": [
    "get **memory usage**"
   ]
  },
  {
   "cell_type": "code",
   "execution_count": 30,
   "metadata": {},
   "outputs": [
    {
     "name": "stdout",
     "output_type": "stream",
     "text": [
      "5309058 Bytes\n"
     ]
    }
   ],
   "source": [
    "memory_usage_default = df.memory_usage(deep=True).sum()\n",
    "print(f'{memory_usage_default} Bytes')"
   ]
  },
  {
   "cell_type": "markdown",
   "metadata": {},
   "source": [
    "in *Pandas*, `str` variables are defined as `object` variables. In *Pandas*, all the other datatypes are unchanged. But `datetime` is added, which is essential for time series analysis, date-based indexing, and performing date arithmetic."
   ]
  },
  {
   "cell_type": "code",
   "execution_count": 45,
   "metadata": {},
   "outputs": [
    {
     "name": "stdout",
     "output_type": "stream",
     "text": [
      "TimeStamp            datetime64[ns]\n",
      "MeasuredFruitSize           float32\n",
      "dtype: object\n",
      "\n",
      "749624 Bytes\n"
     ]
    }
   ],
   "source": [
    "# set 'TimeStamp' column as datetime dtype\n",
    "df['TimeStamp'] = pd.to_datetime(df['TimeStamp'])\n",
    "\n",
    "\n",
    "# save up memory by setting fruit size at a lower precision\n",
    "df['MeasuredFruitSize'] = df['MeasuredFruitSize'].astype('float32')\n",
    "\n",
    "# check changes\n",
    "print(df.dtypes)\n",
    "\n",
    "memory_usage_set_dtype = df.memory_usage(deep=True).sum()\n",
    "print(f'\\n{memory_usage_set_dtype} Bytes')"
   ]
  },
  {
   "cell_type": "markdown",
   "metadata": {},
   "source": [
    "checking if by setting the proper `dtype` there is a saving in RAM memory usage:"
   ]
  },
  {
   "cell_type": "code",
   "execution_count": 33,
   "metadata": {},
   "outputs": [
    {
     "name": "stdout",
     "output_type": "stream",
     "text": [
      "True\n"
     ]
    }
   ],
   "source": [
    "print(memory_usage_set_dtype < memory_usage_default)"
   ]
  },
  {
   "cell_type": "markdown",
   "metadata": {},
   "source": [
    " ## Pandas Data Types (`dtypes`)\n",
    "\n",
    "| Data Type    | Description                                                                 | Example Data                                               | Memory Usage     |\n",
    "|--------------|-----------------------------------------------------------------------------|------------------------------------------------------------|------------------|\n",
    "| `int64`      | 64-bit integer. Used for integer numbers without decimal points.            | `[1, 2, 3, 100]`                                           | 8 bytes per item |\n",
    "| `float64`    | 64-bit floating point. Used for real numbers with decimal points.           | `[1.0, 2.5, 3.14, 100.0]`                                  | 8 bytes per item |\n",
    "| `float32`    | 32-bit floating point. Used for real numbers with decimal points, less precise. | `[1.0, 2.5, 3.14, 100.0]`                                  | 4 bytes per item |\n",
    "| `bool`       | Boolean type. Used for True/False values.                                   | `[True, False, True, True]`                                | 1 byte per item  |\n",
    "| `category`   | Categorical data type. Used for fields that have a fixed number of values.  | `['apple', 'banana', 'cherry']`                            | Variable (depends on unique values) |\n",
    "| `object`     | Generic type. Used for string or mixed types.                               | `['apple', 'banana', 'cherry']` or `[1, 'two', 3.0]`       | Variable (depends on data) |\n",
    "| `datetime64` | Date and time type. Used for date and time data.                            | `['2024-01-01', '2024-06-17']`                             | 8 bytes per item |\n",
    "| `timedelta64`| Difference between two dates or times.                                      | `[pd.Timedelta('1 days'), pd.Timedelta('2 days')]`         | 8 bytes per item |\n",
    "| `int8`       | 8-bit integer. Used for very small integer ranges.                          | `[1, -2, 3, -128]`                                         | 1 byte per item  |\n",
    "| `int16`      | 16-bit integer. Used for small integer ranges.                              | `[1, 200, 300, -32768]`                                    | 2 bytes per item |\n",
    "| `int32`      | 32-bit integer. Used for larger integer ranges.                             | `[1, 200, 300, 2147483647]`                                | 4 bytes per item |\n"
   ]
  },
  {
   "cell_type": "markdown",
   "metadata": {},
   "source": [
    "\n",
    "**Usage Tips:**\n",
    "- **Use `int8`, `int16`, `int32`, `float32`** when you need to save memory and know your data fits within the range of these types.\n",
    "- **Use `category`** for columns with a limited set of unique values to save memory and improve performance.\n",
    "- **Use `object`** only if necessary, as it is the most memory-consuming data type.\n",
    "- **Use `datetime64`** and `timedelta64` for efficient date and time operations."
   ]
  },
  {
   "cell_type": "markdown",
   "metadata": {},
   "source": [
    "# Exploring data"
   ]
  },
  {
   "cell_type": "markdown",
   "metadata": {},
   "source": [
    "check **if empty**"
   ]
  },
  {
   "cell_type": "code",
   "execution_count": 47,
   "metadata": {},
   "outputs": [
    {
     "name": "stdout",
     "output_type": "stream",
     "text": [
      "is empty? --> False\n"
     ]
    }
   ],
   "source": [
    "print(f'is empty? --> {df.empty}')"
   ]
  },
  {
   "cell_type": "markdown",
   "metadata": {},
   "source": [
    "get **shape** of the dataframe"
   ]
  },
  {
   "cell_type": "code",
   "execution_count": 43,
   "metadata": {},
   "outputs": [
    {
     "name": "stdout",
     "output_type": "stream",
     "text": [
      "(rows, columns) = (62458, 2)\n"
     ]
    }
   ],
   "source": [
    "print(f'(rows, columns) = {df.shape}')"
   ]
  },
  {
   "cell_type": "markdown",
   "metadata": {},
   "source": [
    "get **number of values** (rows * columns)"
   ]
  },
  {
   "cell_type": "code",
   "execution_count": 48,
   "metadata": {},
   "outputs": [
    {
     "name": "stdout",
     "output_type": "stream",
     "text": [
      "124916\n"
     ]
    }
   ],
   "source": [
    "print(f'{df.size}')"
   ]
  },
  {
   "cell_type": "markdown",
   "metadata": {},
   "source": [
    "visualize 5 `head` and `tail` rows"
   ]
  },
  {
   "cell_type": "code",
   "execution_count": 34,
   "metadata": {},
   "outputs": [
    {
     "data": {
      "text/html": [
       "<div>\n",
       "<style scoped>\n",
       "    .dataframe tbody tr th:only-of-type {\n",
       "        vertical-align: middle;\n",
       "    }\n",
       "\n",
       "    .dataframe tbody tr th {\n",
       "        vertical-align: top;\n",
       "    }\n",
       "\n",
       "    .dataframe thead th {\n",
       "        text-align: right;\n",
       "    }\n",
       "</style>\n",
       "<table border=\"1\" class=\"dataframe\">\n",
       "  <thead>\n",
       "    <tr style=\"text-align: right;\">\n",
       "      <th></th>\n",
       "      <th>TimeStamp</th>\n",
       "      <th>MeasuredFruitSize</th>\n",
       "    </tr>\n",
       "  </thead>\n",
       "  <tbody>\n",
       "    <tr>\n",
       "      <th>0</th>\n",
       "      <td>2023-07-05 19:07:22</td>\n",
       "      <td>45.582829</td>\n",
       "    </tr>\n",
       "    <tr>\n",
       "      <th>1</th>\n",
       "      <td>2023-07-05 19:10:22</td>\n",
       "      <td>45.583561</td>\n",
       "    </tr>\n",
       "    <tr>\n",
       "      <th>2</th>\n",
       "      <td>2023-07-05 19:13:22</td>\n",
       "      <td>45.584263</td>\n",
       "    </tr>\n",
       "    <tr>\n",
       "      <th>3</th>\n",
       "      <td>2023-07-05 19:16:24</td>\n",
       "      <td>45.584991</td>\n",
       "    </tr>\n",
       "    <tr>\n",
       "      <th>4</th>\n",
       "      <td>2023-07-05 19:19:26</td>\n",
       "      <td>45.584991</td>\n",
       "    </tr>\n",
       "  </tbody>\n",
       "</table>\n",
       "</div>"
      ],
      "text/plain": [
       "            TimeStamp  MeasuredFruitSize\n",
       "0 2023-07-05 19:07:22          45.582829\n",
       "1 2023-07-05 19:10:22          45.583561\n",
       "2 2023-07-05 19:13:22          45.584263\n",
       "3 2023-07-05 19:16:24          45.584991\n",
       "4 2023-07-05 19:19:26          45.584991"
      ]
     },
     "execution_count": 34,
     "metadata": {},
     "output_type": "execute_result"
    }
   ],
   "source": [
    "df.head(5)"
   ]
  },
  {
   "cell_type": "code",
   "execution_count": 35,
   "metadata": {},
   "outputs": [
    {
     "data": {
      "text/html": [
       "<div>\n",
       "<style scoped>\n",
       "    .dataframe tbody tr th:only-of-type {\n",
       "        vertical-align: middle;\n",
       "    }\n",
       "\n",
       "    .dataframe tbody tr th {\n",
       "        vertical-align: top;\n",
       "    }\n",
       "\n",
       "    .dataframe thead th {\n",
       "        text-align: right;\n",
       "    }\n",
       "</style>\n",
       "<table border=\"1\" class=\"dataframe\">\n",
       "  <thead>\n",
       "    <tr style=\"text-align: right;\">\n",
       "      <th></th>\n",
       "      <th>TimeStamp</th>\n",
       "      <th>MeasuredFruitSize</th>\n",
       "    </tr>\n",
       "  </thead>\n",
       "  <tbody>\n",
       "    <tr>\n",
       "      <th>62453</th>\n",
       "      <td>2023-10-20 20:54:44</td>\n",
       "      <td>0.0</td>\n",
       "    </tr>\n",
       "    <tr>\n",
       "      <th>62454</th>\n",
       "      <td>2023-10-20 20:55:01</td>\n",
       "      <td>0.0</td>\n",
       "    </tr>\n",
       "    <tr>\n",
       "      <th>62455</th>\n",
       "      <td>2023-10-20 20:57:44</td>\n",
       "      <td>0.0</td>\n",
       "    </tr>\n",
       "    <tr>\n",
       "      <th>62456</th>\n",
       "      <td>2023-10-20 20:58:00</td>\n",
       "      <td>0.0</td>\n",
       "    </tr>\n",
       "    <tr>\n",
       "      <th>62457</th>\n",
       "      <td>2023-10-20 21:00:44</td>\n",
       "      <td>0.0</td>\n",
       "    </tr>\n",
       "  </tbody>\n",
       "</table>\n",
       "</div>"
      ],
      "text/plain": [
       "                TimeStamp  MeasuredFruitSize\n",
       "62453 2023-10-20 20:54:44                0.0\n",
       "62454 2023-10-20 20:55:01                0.0\n",
       "62455 2023-10-20 20:57:44                0.0\n",
       "62456 2023-10-20 20:58:00                0.0\n",
       "62457 2023-10-20 21:00:44                0.0"
      ]
     },
     "execution_count": 35,
     "metadata": {},
     "output_type": "execute_result"
    }
   ],
   "source": [
    "df.tail(5)"
   ]
  },
  {
   "cell_type": "markdown",
   "metadata": {},
   "source": [
    "get a **statistical description** of numerical columns"
   ]
  },
  {
   "cell_type": "code",
   "execution_count": 36,
   "metadata": {},
   "outputs": [
    {
     "data": {
      "text/html": [
       "<div>\n",
       "<style scoped>\n",
       "    .dataframe tbody tr th:only-of-type {\n",
       "        vertical-align: middle;\n",
       "    }\n",
       "\n",
       "    .dataframe tbody tr th {\n",
       "        vertical-align: top;\n",
       "    }\n",
       "\n",
       "    .dataframe thead th {\n",
       "        text-align: right;\n",
       "    }\n",
       "</style>\n",
       "<table border=\"1\" class=\"dataframe\">\n",
       "  <thead>\n",
       "    <tr style=\"text-align: right;\">\n",
       "      <th></th>\n",
       "      <th>TimeStamp</th>\n",
       "      <th>MeasuredFruitSize</th>\n",
       "    </tr>\n",
       "  </thead>\n",
       "  <tbody>\n",
       "    <tr>\n",
       "      <th>count</th>\n",
       "      <td>62458</td>\n",
       "      <td>62458.000000</td>\n",
       "    </tr>\n",
       "    <tr>\n",
       "      <th>mean</th>\n",
       "      <td>2023-09-09 00:50:22.298808832</td>\n",
       "      <td>50.394447</td>\n",
       "    </tr>\n",
       "    <tr>\n",
       "      <th>min</th>\n",
       "      <td>2023-07-05 19:07:22</td>\n",
       "      <td>0.000000</td>\n",
       "    </tr>\n",
       "    <tr>\n",
       "      <th>25%</th>\n",
       "      <td>2023-08-08 05:15:03</td>\n",
       "      <td>53.855151</td>\n",
       "    </tr>\n",
       "    <tr>\n",
       "      <th>50%</th>\n",
       "      <td>2023-09-16 23:44:50</td>\n",
       "      <td>56.403133</td>\n",
       "    </tr>\n",
       "    <tr>\n",
       "      <th>75%</th>\n",
       "      <td>2023-10-04 08:03:58.249999872</td>\n",
       "      <td>68.045626</td>\n",
       "    </tr>\n",
       "    <tr>\n",
       "      <th>max</th>\n",
       "      <td>2023-10-20 21:00:44</td>\n",
       "      <td>68.168419</td>\n",
       "    </tr>\n",
       "    <tr>\n",
       "      <th>std</th>\n",
       "      <td>NaN</td>\n",
       "      <td>22.062109</td>\n",
       "    </tr>\n",
       "  </tbody>\n",
       "</table>\n",
       "</div>"
      ],
      "text/plain": [
       "                           TimeStamp  MeasuredFruitSize\n",
       "count                          62458       62458.000000\n",
       "mean   2023-09-09 00:50:22.298808832          50.394447\n",
       "min              2023-07-05 19:07:22           0.000000\n",
       "25%              2023-08-08 05:15:03          53.855151\n",
       "50%              2023-09-16 23:44:50          56.403133\n",
       "75%    2023-10-04 08:03:58.249999872          68.045626\n",
       "max              2023-10-20 21:00:44          68.168419\n",
       "std                              NaN          22.062109"
      ]
     },
     "execution_count": 36,
     "metadata": {},
     "output_type": "execute_result"
    }
   ],
   "source": [
    "df.describe()"
   ]
  },
  {
   "cell_type": "markdown",
   "metadata": {},
   "source": [
    "get **metadata**:\n",
    "\n",
    "`df.info` is a usefull method that gives metadata of a dataframe, such as:\n",
    "+ number of rows\n",
    "+ index range\n",
    "+ list od columns\n",
    "+ count of `null` values per columns\n",
    "+ count of non-null values per column\n",
    "+ data type per column\n",
    "+ count of column per `dtype`\n",
    "+ memory usage"
   ]
  },
  {
   "cell_type": "code",
   "execution_count": 40,
   "metadata": {},
   "outputs": [
    {
     "name": "stdout",
     "output_type": "stream",
     "text": [
      "<class 'pandas.core.frame.DataFrame'>\n",
      "RangeIndex: 62458 entries, 0 to 62457\n",
      "Data columns (total 2 columns):\n",
      " #   Column             Non-Null Count  Dtype         \n",
      "---  ------             --------------  -----         \n",
      " 0   TimeStamp          62458 non-null  datetime64[ns]\n",
      " 1   MeasuredFruitSize  62458 non-null  float32       \n",
      "dtypes: datetime64[ns](1), float32(1)\n",
      "memory usage: 732.1 KB\n"
     ]
    }
   ],
   "source": [
    "df.info()"
   ]
  },
  {
   "cell_type": "markdown",
   "metadata": {},
   "source": [
    "get **column names**"
   ]
  },
  {
   "cell_type": "code",
   "execution_count": 41,
   "metadata": {},
   "outputs": [
    {
     "name": "stdout",
     "output_type": "stream",
     "text": [
      "Index(['TimeStamp', 'MeasuredFruitSize'], dtype='object')\n"
     ]
    }
   ],
   "source": [
    "print(df.columns)"
   ]
  },
  {
   "cell_type": "markdown",
   "metadata": {},
   "source": [
    "get **values**"
   ]
  },
  {
   "cell_type": "code",
   "execution_count": 49,
   "metadata": {},
   "outputs": [
    {
     "name": "stdout",
     "output_type": "stream",
     "text": [
      "[[Timestamp('2023-07-05 19:07:22') 45.582828521728516]\n",
      " [Timestamp('2023-07-05 19:10:22') 45.583560943603516]\n",
      " [Timestamp('2023-07-05 19:13:22') 45.58426284790039]\n",
      " ...\n",
      " [Timestamp('2023-10-20 20:57:44') 0.0]\n",
      " [Timestamp('2023-10-20 20:58:00') 0.0]\n",
      " [Timestamp('2023-10-20 21:00:44') 0.0]]\n"
     ]
    }
   ],
   "source": [
    "print(df.values)"
   ]
  },
  {
   "cell_type": "markdown",
   "metadata": {},
   "source": [
    "get **record labels (index)**\n",
    "\n",
    "**`Index`** are something of a peculiarity to pandas.\n",
    "\n",
    "In pandas, **`Index`** are about labels. This helps with data selection and automatic alignment when performing operations between two **DataFrames** or **Series** such as join, data fusion."
   ]
  },
  {
   "cell_type": "code",
   "execution_count": 68,
   "metadata": {},
   "outputs": [
    {
     "name": "stdout",
     "output_type": "stream",
     "text": [
      "RangeIndex(start=0, stop=62458, step=1)\n",
      "[    0     1     2 ... 62455 62456 62457]\n"
     ]
    }
   ],
   "source": [
    "print(df.index)\n",
    "print(df.index.values)"
   ]
  },
  {
   "cell_type": "markdown",
   "metadata": {},
   "source": [
    "# Accessing data"
   ]
  },
  {
   "cell_type": "markdown",
   "metadata": {},
   "source": [
    "A *Series* can be obtained from a *DataFrame* when selecting a column:"
   ]
  },
  {
   "cell_type": "code",
   "execution_count": 53,
   "metadata": {},
   "outputs": [
    {
     "name": "stdout",
     "output_type": "stream",
     "text": [
      "Series: <class 'pandas.core.series.Series'>\n",
      "DataFrame: <class 'pandas.core.frame.DataFrame'>\n"
     ]
    }
   ],
   "source": [
    "s = df['MeasuredFruitSize']\n",
    "\n",
    "# print object type\n",
    "print(f'Series: {type(s)}')\n",
    "print(f'DataFrame: {type(df)}')"
   ]
  },
  {
   "cell_type": "markdown",
   "metadata": {},
   "source": [
    "In *Pandas* it is possible to access data similarly to *Numpy* via **indexing**.\n",
    "\n",
    "The first improvement over numpy arrays is labeled indexing. It is possible to select subsets by column, row, or both."
   ]
  },
  {
   "cell_type": "code",
   "execution_count": 54,
   "metadata": {},
   "outputs": [
    {
     "data": {
      "text/plain": [
       "0        45.582829\n",
       "1        45.583561\n",
       "2        45.584263\n",
       "3        45.584991\n",
       "4        45.584991\n",
       "           ...    \n",
       "62453     0.000000\n",
       "62454     0.000000\n",
       "62455     0.000000\n",
       "62456     0.000000\n",
       "62457     0.000000\n",
       "Name: MeasuredFruitSize, Length: 62458, dtype: float32"
      ]
     },
     "execution_count": 54,
     "metadata": {},
     "output_type": "execute_result"
    }
   ],
   "source": [
    "# access Series/ single column\n",
    "\n",
    "df['MeasuredFruitSize']"
   ]
  },
  {
   "cell_type": "code",
   "execution_count": 20,
   "metadata": {},
   "outputs": [
    {
     "data": {
      "text/plain": [
       "0        45.582829\n",
       "1        45.583561\n",
       "2        45.584263\n",
       "3        45.584991\n",
       "4        45.584991\n",
       "           ...    \n",
       "62453     0.000000\n",
       "62454     0.000000\n",
       "62455     0.000000\n",
       "62456     0.000000\n",
       "62457     0.000000\n",
       "Name: FruitSize, Length: 62458, dtype: float32"
      ]
     },
     "execution_count": 20,
     "metadata": {},
     "output_type": "execute_result"
    }
   ],
   "source": [
    "df.get('MeasuredFruitSize')  # same output, different method "
   ]
  },
  {
   "cell_type": "code",
   "execution_count": 57,
   "metadata": {},
   "outputs": [
    {
     "data": {
      "text/plain": [
       "45.584263"
      ]
     },
     "execution_count": 57,
     "metadata": {},
     "output_type": "execute_result"
    }
   ],
   "source": [
    "# access third element of a Series/ single column\n",
    "\n",
    "df['MeasuredFruitSize'][2]"
   ]
  },
  {
   "cell_type": "code",
   "execution_count": 59,
   "metadata": {},
   "outputs": [
    {
     "data": {
      "text/plain": [
       "2     45.584263\n",
       "3     45.584991\n",
       "4     45.584991\n",
       "5     45.586201\n",
       "6     45.586906\n",
       "7     45.587639\n",
       "8     45.588379\n",
       "9     45.589134\n",
       "10    45.589855\n",
       "11    45.590580\n",
       "12    45.591343\n",
       "13    45.592098\n",
       "14    45.592834\n",
       "15    45.593613\n",
       "16    45.594357\n",
       "17    45.595062\n",
       "18    45.595779\n",
       "19    45.596485\n",
       "20    45.597202\n",
       "21    45.597919\n",
       "22    45.598644\n",
       "23    45.599388\n",
       "24    45.600147\n",
       "25    45.600952\n",
       "Name: MeasuredFruitSize, dtype: float32"
      ]
     },
     "execution_count": 59,
     "metadata": {},
     "output_type": "execute_result"
    }
   ],
   "source": [
    "# get from third to 25th element of a Series/ single column\n",
    "\n",
    "df['MeasuredFruitSize'][2: 26]  # last is exclusinve index [included, exluded)"
   ]
  },
  {
   "cell_type": "code",
   "execution_count": 60,
   "metadata": {},
   "outputs": [
    {
     "data": {
      "text/html": [
       "<div>\n",
       "<style scoped>\n",
       "    .dataframe tbody tr th:only-of-type {\n",
       "        vertical-align: middle;\n",
       "    }\n",
       "\n",
       "    .dataframe tbody tr th {\n",
       "        vertical-align: top;\n",
       "    }\n",
       "\n",
       "    .dataframe thead th {\n",
       "        text-align: right;\n",
       "    }\n",
       "</style>\n",
       "<table border=\"1\" class=\"dataframe\">\n",
       "  <thead>\n",
       "    <tr style=\"text-align: right;\">\n",
       "      <th></th>\n",
       "      <th>TimeStamp</th>\n",
       "      <th>MeasuredFruitSize</th>\n",
       "    </tr>\n",
       "  </thead>\n",
       "  <tbody>\n",
       "    <tr>\n",
       "      <th>3</th>\n",
       "      <td>2023-07-05 19:16:24</td>\n",
       "      <td>45.584991</td>\n",
       "    </tr>\n",
       "    <tr>\n",
       "      <th>4</th>\n",
       "      <td>2023-07-05 19:19:26</td>\n",
       "      <td>45.584991</td>\n",
       "    </tr>\n",
       "    <tr>\n",
       "      <th>5</th>\n",
       "      <td>2023-07-05 19:22:24</td>\n",
       "      <td>45.586201</td>\n",
       "    </tr>\n",
       "    <tr>\n",
       "      <th>6</th>\n",
       "      <td>2023-07-05 19:25:25</td>\n",
       "      <td>45.586906</td>\n",
       "    </tr>\n",
       "    <tr>\n",
       "      <th>7</th>\n",
       "      <td>2023-07-05 19:28:24</td>\n",
       "      <td>45.587639</td>\n",
       "    </tr>\n",
       "    <tr>\n",
       "      <th>8</th>\n",
       "      <td>2023-07-05 19:31:24</td>\n",
       "      <td>45.588379</td>\n",
       "    </tr>\n",
       "    <tr>\n",
       "      <th>9</th>\n",
       "      <td>2023-07-05 19:34:24</td>\n",
       "      <td>45.589134</td>\n",
       "    </tr>\n",
       "    <tr>\n",
       "      <th>10</th>\n",
       "      <td>2023-07-05 19:37:24</td>\n",
       "      <td>45.589855</td>\n",
       "    </tr>\n",
       "    <tr>\n",
       "      <th>11</th>\n",
       "      <td>2023-07-05 19:40:24</td>\n",
       "      <td>45.590580</td>\n",
       "    </tr>\n",
       "    <tr>\n",
       "      <th>12</th>\n",
       "      <td>2023-07-05 19:43:24</td>\n",
       "      <td>45.591343</td>\n",
       "    </tr>\n",
       "    <tr>\n",
       "      <th>13</th>\n",
       "      <td>2023-07-05 19:46:24</td>\n",
       "      <td>45.592098</td>\n",
       "    </tr>\n",
       "    <tr>\n",
       "      <th>14</th>\n",
       "      <td>2023-07-05 19:49:27</td>\n",
       "      <td>45.592834</td>\n",
       "    </tr>\n",
       "    <tr>\n",
       "      <th>15</th>\n",
       "      <td>2023-07-05 19:52:25</td>\n",
       "      <td>45.593613</td>\n",
       "    </tr>\n",
       "    <tr>\n",
       "      <th>16</th>\n",
       "      <td>2023-07-05 19:55:24</td>\n",
       "      <td>45.594357</td>\n",
       "    </tr>\n",
       "    <tr>\n",
       "      <th>17</th>\n",
       "      <td>2023-07-05 19:58:24</td>\n",
       "      <td>45.595062</td>\n",
       "    </tr>\n",
       "    <tr>\n",
       "      <th>18</th>\n",
       "      <td>2023-07-05 20:01:24</td>\n",
       "      <td>45.595779</td>\n",
       "    </tr>\n",
       "    <tr>\n",
       "      <th>19</th>\n",
       "      <td>2023-07-05 20:04:24</td>\n",
       "      <td>45.596485</td>\n",
       "    </tr>\n",
       "    <tr>\n",
       "      <th>20</th>\n",
       "      <td>2023-07-05 20:07:24</td>\n",
       "      <td>45.597202</td>\n",
       "    </tr>\n",
       "    <tr>\n",
       "      <th>21</th>\n",
       "      <td>2023-07-05 20:10:24</td>\n",
       "      <td>45.597919</td>\n",
       "    </tr>\n",
       "    <tr>\n",
       "      <th>22</th>\n",
       "      <td>2023-07-05 20:13:24</td>\n",
       "      <td>45.598644</td>\n",
       "    </tr>\n",
       "    <tr>\n",
       "      <th>23</th>\n",
       "      <td>2023-07-05 20:16:24</td>\n",
       "      <td>45.599388</td>\n",
       "    </tr>\n",
       "    <tr>\n",
       "      <th>24</th>\n",
       "      <td>2023-07-05 20:19:24</td>\n",
       "      <td>45.600147</td>\n",
       "    </tr>\n",
       "    <tr>\n",
       "      <th>25</th>\n",
       "      <td>2023-07-05 20:22:22</td>\n",
       "      <td>45.600952</td>\n",
       "    </tr>\n",
       "  </tbody>\n",
       "</table>\n",
       "</div>"
      ],
      "text/plain": [
       "             TimeStamp  MeasuredFruitSize\n",
       "3  2023-07-05 19:16:24          45.584991\n",
       "4  2023-07-05 19:19:26          45.584991\n",
       "5  2023-07-05 19:22:24          45.586201\n",
       "6  2023-07-05 19:25:25          45.586906\n",
       "7  2023-07-05 19:28:24          45.587639\n",
       "8  2023-07-05 19:31:24          45.588379\n",
       "9  2023-07-05 19:34:24          45.589134\n",
       "10 2023-07-05 19:37:24          45.589855\n",
       "11 2023-07-05 19:40:24          45.590580\n",
       "12 2023-07-05 19:43:24          45.591343\n",
       "13 2023-07-05 19:46:24          45.592098\n",
       "14 2023-07-05 19:49:27          45.592834\n",
       "15 2023-07-05 19:52:25          45.593613\n",
       "16 2023-07-05 19:55:24          45.594357\n",
       "17 2023-07-05 19:58:24          45.595062\n",
       "18 2023-07-05 20:01:24          45.595779\n",
       "19 2023-07-05 20:04:24          45.596485\n",
       "20 2023-07-05 20:07:24          45.597202\n",
       "21 2023-07-05 20:10:24          45.597919\n",
       "22 2023-07-05 20:13:24          45.598644\n",
       "23 2023-07-05 20:16:24          45.599388\n",
       "24 2023-07-05 20:19:24          45.600147\n",
       "25 2023-07-05 20:22:22          45.600952"
      ]
     },
     "execution_count": 60,
     "metadata": {},
     "output_type": "execute_result"
    }
   ],
   "source": [
    "# access multiple columns by index\n",
    "\n",
    "df.loc[3:25]"
   ]
  },
  {
   "cell_type": "code",
   "execution_count": 62,
   "metadata": {},
   "outputs": [
    {
     "data": {
      "text/plain": [
       "3     45.584991\n",
       "4     45.584991\n",
       "5     45.586201\n",
       "6     45.586906\n",
       "7     45.587639\n",
       "8     45.588379\n",
       "9     45.589134\n",
       "10    45.589855\n",
       "11    45.590580\n",
       "12    45.591343\n",
       "13    45.592098\n",
       "14    45.592834\n",
       "15    45.593613\n",
       "16    45.594357\n",
       "17    45.595062\n",
       "18    45.595779\n",
       "19    45.596485\n",
       "20    45.597202\n",
       "21    45.597919\n",
       "22    45.598644\n",
       "23    45.599388\n",
       "24    45.600147\n",
       "25    45.600952\n",
       "Name: MeasuredFruitSize, dtype: float32"
      ]
     },
     "execution_count": 62,
     "metadata": {},
     "output_type": "execute_result"
    }
   ],
   "source": [
    "# access multiple columns by index and column name\n",
    "\n",
    "df.loc[3:25, 'MeasuredFruitSize']"
   ]
  },
  {
   "cell_type": "code",
   "execution_count": 63,
   "metadata": {},
   "outputs": [
    {
     "data": {
      "text/plain": [
       "3     45.584991\n",
       "4     45.584991\n",
       "5     45.586201\n",
       "6     45.586906\n",
       "7     45.587639\n",
       "8     45.588379\n",
       "9     45.589134\n",
       "10    45.589855\n",
       "11    45.590580\n",
       "12    45.591343\n",
       "13    45.592098\n",
       "14    45.592834\n",
       "15    45.593613\n",
       "16    45.594357\n",
       "17    45.595062\n",
       "18    45.595779\n",
       "19    45.596485\n",
       "20    45.597202\n",
       "21    45.597919\n",
       "22    45.598644\n",
       "23    45.599388\n",
       "24    45.600147\n",
       "Name: MeasuredFruitSize, dtype: float32"
      ]
     },
     "execution_count": 63,
     "metadata": {},
     "output_type": "execute_result"
    }
   ],
   "source": [
    "# access multiple columns by index and column index\n",
    "\n",
    "df.iloc[3:25, 1]"
   ]
  },
  {
   "cell_type": "code",
   "execution_count": 16,
   "metadata": {},
   "outputs": [
    {
     "data": {
      "text/plain": [
       "45.58283"
      ]
     },
     "execution_count": 16,
     "metadata": {},
     "output_type": "execute_result"
    }
   ],
   "source": [
    "df.at[0, 'MeasuredFruitSize']  # at - use row and column label"
   ]
  },
  {
   "cell_type": "code",
   "execution_count": 17,
   "metadata": {},
   "outputs": [
    {
     "data": {
      "text/plain": [
       "45.58283"
      ]
     },
     "execution_count": 17,
     "metadata": {},
     "output_type": "execute_result"
    }
   ],
   "source": [
    "df.iat[0, 1]  # at - use row and column index"
   ]
  },
  {
   "cell_type": "markdown",
   "metadata": {},
   "source": [
    "to better understand the difference between **label selection** and **index selection** let's change the index labels:"
   ]
  },
  {
   "cell_type": "code",
   "execution_count": 46,
   "metadata": {},
   "outputs": [
    {
     "name": "stdout",
     "output_type": "stream",
     "text": [
      "                    TimeStamp  MeasuredFruitSize\n",
      "new_0     2023-07-05 19:07:22          45.582829\n",
      "new_1     2023-07-05 19:10:22          45.583561\n",
      "new_2     2023-07-05 19:13:22          45.584263\n",
      "new_3     2023-07-05 19:16:24          45.584991\n",
      "new_4     2023-07-05 19:19:26          45.584991\n",
      "...                       ...                ...\n",
      "new_62453 2023-10-20 20:54:44           0.000000\n",
      "new_62454 2023-10-20 20:55:01           0.000000\n",
      "new_62455 2023-10-20 20:57:44           0.000000\n",
      "new_62456 2023-10-20 20:58:00           0.000000\n",
      "new_62457 2023-10-20 21:00:44           0.000000\n",
      "\n",
      "[62458 rows x 2 columns]\n"
     ]
    }
   ],
   "source": [
    "index = df.index.tolist()\n",
    "new_index = [f'new_{ind}' for ind in index]\n",
    "\n",
    "# assign the new index\n",
    "df.index = new_index\n",
    "\n",
    "print(df)"
   ]
  },
  {
   "cell_type": "markdown",
   "metadata": {},
   "source": [
    "using **labels** instead of **indices** while raise and ```ValueError```"
   ]
  },
  {
   "cell_type": "code",
   "execution_count": 29,
   "metadata": {},
   "outputs": [
    {
     "ename": "KeyError",
     "evalue": "0",
     "output_type": "error",
     "traceback": [
      "\u001b[0;31m---------------------------------------------------------------------------\u001b[0m",
      "\u001b[0;31mKeyError\u001b[0m                                  Traceback (most recent call last)",
      "File \u001b[0;32m/media/mirko/Volume/GITHUB/AgTech_Students_PythonCourse/venv/lib/python3.10/site-packages/pandas/core/indexes/base.py:3805\u001b[0m, in \u001b[0;36mIndex.get_loc\u001b[0;34m(self, key)\u001b[0m\n\u001b[1;32m   3804\u001b[0m \u001b[38;5;28;01mtry\u001b[39;00m:\n\u001b[0;32m-> 3805\u001b[0m     \u001b[38;5;28;01mreturn\u001b[39;00m \u001b[38;5;28;43mself\u001b[39;49m\u001b[38;5;241;43m.\u001b[39;49m\u001b[43m_engine\u001b[49m\u001b[38;5;241;43m.\u001b[39;49m\u001b[43mget_loc\u001b[49m\u001b[43m(\u001b[49m\u001b[43mcasted_key\u001b[49m\u001b[43m)\u001b[49m\n\u001b[1;32m   3806\u001b[0m \u001b[38;5;28;01mexcept\u001b[39;00m \u001b[38;5;167;01mKeyError\u001b[39;00m \u001b[38;5;28;01mas\u001b[39;00m err:\n",
      "File \u001b[0;32mindex.pyx:167\u001b[0m, in \u001b[0;36mpandas._libs.index.IndexEngine.get_loc\u001b[0;34m()\u001b[0m\n",
      "File \u001b[0;32mindex.pyx:196\u001b[0m, in \u001b[0;36mpandas._libs.index.IndexEngine.get_loc\u001b[0;34m()\u001b[0m\n",
      "File \u001b[0;32mpandas/_libs/hashtable_class_helper.pxi:7081\u001b[0m, in \u001b[0;36mpandas._libs.hashtable.PyObjectHashTable.get_item\u001b[0;34m()\u001b[0m\n",
      "File \u001b[0;32mpandas/_libs/hashtable_class_helper.pxi:7089\u001b[0m, in \u001b[0;36mpandas._libs.hashtable.PyObjectHashTable.get_item\u001b[0;34m()\u001b[0m\n",
      "\u001b[0;31mKeyError\u001b[0m: 0",
      "\nThe above exception was the direct cause of the following exception:\n",
      "\u001b[0;31mKeyError\u001b[0m                                  Traceback (most recent call last)",
      "Cell \u001b[0;32mIn[29], line 1\u001b[0m\n\u001b[0;32m----> 1\u001b[0m \u001b[43mdf\u001b[49m\u001b[38;5;241;43m.\u001b[39;49m\u001b[43mat\u001b[49m\u001b[43m[\u001b[49m\u001b[38;5;241;43m0\u001b[39;49m\u001b[43m,\u001b[49m\u001b[43m \u001b[49m\u001b[38;5;124;43m'\u001b[39;49m\u001b[38;5;124;43mMeasuredFruitSize\u001b[39;49m\u001b[38;5;124;43m'\u001b[39;49m\u001b[43m]\u001b[49m  \u001b[38;5;66;03m# at - use row and column label\u001b[39;00m\n",
      "File \u001b[0;32m/media/mirko/Volume/GITHUB/AgTech_Students_PythonCourse/venv/lib/python3.10/site-packages/pandas/core/indexing.py:2575\u001b[0m, in \u001b[0;36m_AtIndexer.__getitem__\u001b[0;34m(self, key)\u001b[0m\n\u001b[1;32m   2572\u001b[0m         \u001b[38;5;28;01mraise\u001b[39;00m \u001b[38;5;167;01mValueError\u001b[39;00m(\u001b[38;5;124m\"\u001b[39m\u001b[38;5;124mInvalid call for scalar access (getting)!\u001b[39m\u001b[38;5;124m\"\u001b[39m)\n\u001b[1;32m   2573\u001b[0m     \u001b[38;5;28;01mreturn\u001b[39;00m \u001b[38;5;28mself\u001b[39m\u001b[38;5;241m.\u001b[39mobj\u001b[38;5;241m.\u001b[39mloc[key]\n\u001b[0;32m-> 2575\u001b[0m \u001b[38;5;28;01mreturn\u001b[39;00m \u001b[38;5;28;43msuper\u001b[39;49m\u001b[43m(\u001b[49m\u001b[43m)\u001b[49m\u001b[38;5;241;43m.\u001b[39;49m\u001b[38;5;21;43m__getitem__\u001b[39;49m\u001b[43m(\u001b[49m\u001b[43mkey\u001b[49m\u001b[43m)\u001b[49m\n",
      "File \u001b[0;32m/media/mirko/Volume/GITHUB/AgTech_Students_PythonCourse/venv/lib/python3.10/site-packages/pandas/core/indexing.py:2527\u001b[0m, in \u001b[0;36m_ScalarAccessIndexer.__getitem__\u001b[0;34m(self, key)\u001b[0m\n\u001b[1;32m   2524\u001b[0m         \u001b[38;5;28;01mraise\u001b[39;00m \u001b[38;5;167;01mValueError\u001b[39;00m(\u001b[38;5;124m\"\u001b[39m\u001b[38;5;124mInvalid call for scalar access (getting)!\u001b[39m\u001b[38;5;124m\"\u001b[39m)\n\u001b[1;32m   2526\u001b[0m key \u001b[38;5;241m=\u001b[39m \u001b[38;5;28mself\u001b[39m\u001b[38;5;241m.\u001b[39m_convert_key(key)\n\u001b[0;32m-> 2527\u001b[0m \u001b[38;5;28;01mreturn\u001b[39;00m \u001b[38;5;28;43mself\u001b[39;49m\u001b[38;5;241;43m.\u001b[39;49m\u001b[43mobj\u001b[49m\u001b[38;5;241;43m.\u001b[39;49m\u001b[43m_get_value\u001b[49m\u001b[43m(\u001b[49m\u001b[38;5;241;43m*\u001b[39;49m\u001b[43mkey\u001b[49m\u001b[43m,\u001b[49m\u001b[43m \u001b[49m\u001b[43mtakeable\u001b[49m\u001b[38;5;241;43m=\u001b[39;49m\u001b[38;5;28;43mself\u001b[39;49m\u001b[38;5;241;43m.\u001b[39;49m\u001b[43m_takeable\u001b[49m\u001b[43m)\u001b[49m\n",
      "File \u001b[0;32m/media/mirko/Volume/GITHUB/AgTech_Students_PythonCourse/venv/lib/python3.10/site-packages/pandas/core/frame.py:4221\u001b[0m, in \u001b[0;36mDataFrame._get_value\u001b[0;34m(self, index, col, takeable)\u001b[0m\n\u001b[1;32m   4215\u001b[0m engine \u001b[38;5;241m=\u001b[39m \u001b[38;5;28mself\u001b[39m\u001b[38;5;241m.\u001b[39mindex\u001b[38;5;241m.\u001b[39m_engine\n\u001b[1;32m   4217\u001b[0m \u001b[38;5;28;01mif\u001b[39;00m \u001b[38;5;129;01mnot\u001b[39;00m \u001b[38;5;28misinstance\u001b[39m(\u001b[38;5;28mself\u001b[39m\u001b[38;5;241m.\u001b[39mindex, MultiIndex):\n\u001b[1;32m   4218\u001b[0m     \u001b[38;5;66;03m# CategoricalIndex: Trying to use the engine fastpath may give incorrect\u001b[39;00m\n\u001b[1;32m   4219\u001b[0m     \u001b[38;5;66;03m#  results if our categories are integers that dont match our codes\u001b[39;00m\n\u001b[1;32m   4220\u001b[0m     \u001b[38;5;66;03m# IntervalIndex: IntervalTree has no get_loc\u001b[39;00m\n\u001b[0;32m-> 4221\u001b[0m     row \u001b[38;5;241m=\u001b[39m \u001b[38;5;28;43mself\u001b[39;49m\u001b[38;5;241;43m.\u001b[39;49m\u001b[43mindex\u001b[49m\u001b[38;5;241;43m.\u001b[39;49m\u001b[43mget_loc\u001b[49m\u001b[43m(\u001b[49m\u001b[43mindex\u001b[49m\u001b[43m)\u001b[49m\n\u001b[1;32m   4222\u001b[0m     \u001b[38;5;28;01mreturn\u001b[39;00m series\u001b[38;5;241m.\u001b[39m_values[row]\n\u001b[1;32m   4224\u001b[0m \u001b[38;5;66;03m# For MultiIndex going through engine effectively restricts us to\u001b[39;00m\n\u001b[1;32m   4225\u001b[0m \u001b[38;5;66;03m#  same-length tuples; see test_get_set_value_no_partial_indexing\u001b[39;00m\n",
      "File \u001b[0;32m/media/mirko/Volume/GITHUB/AgTech_Students_PythonCourse/venv/lib/python3.10/site-packages/pandas/core/indexes/base.py:3812\u001b[0m, in \u001b[0;36mIndex.get_loc\u001b[0;34m(self, key)\u001b[0m\n\u001b[1;32m   3807\u001b[0m     \u001b[38;5;28;01mif\u001b[39;00m \u001b[38;5;28misinstance\u001b[39m(casted_key, \u001b[38;5;28mslice\u001b[39m) \u001b[38;5;129;01mor\u001b[39;00m (\n\u001b[1;32m   3808\u001b[0m         \u001b[38;5;28misinstance\u001b[39m(casted_key, abc\u001b[38;5;241m.\u001b[39mIterable)\n\u001b[1;32m   3809\u001b[0m         \u001b[38;5;129;01mand\u001b[39;00m \u001b[38;5;28many\u001b[39m(\u001b[38;5;28misinstance\u001b[39m(x, \u001b[38;5;28mslice\u001b[39m) \u001b[38;5;28;01mfor\u001b[39;00m x \u001b[38;5;129;01min\u001b[39;00m casted_key)\n\u001b[1;32m   3810\u001b[0m     ):\n\u001b[1;32m   3811\u001b[0m         \u001b[38;5;28;01mraise\u001b[39;00m InvalidIndexError(key)\n\u001b[0;32m-> 3812\u001b[0m     \u001b[38;5;28;01mraise\u001b[39;00m \u001b[38;5;167;01mKeyError\u001b[39;00m(key) \u001b[38;5;28;01mfrom\u001b[39;00m \u001b[38;5;21;01merr\u001b[39;00m\n\u001b[1;32m   3813\u001b[0m \u001b[38;5;28;01mexcept\u001b[39;00m \u001b[38;5;167;01mTypeError\u001b[39;00m:\n\u001b[1;32m   3814\u001b[0m     \u001b[38;5;66;03m# If we have a listlike key, _check_indexing_error will raise\u001b[39;00m\n\u001b[1;32m   3815\u001b[0m     \u001b[38;5;66;03m#  InvalidIndexError. Otherwise we fall through and re-raise\u001b[39;00m\n\u001b[1;32m   3816\u001b[0m     \u001b[38;5;66;03m#  the TypeError.\u001b[39;00m\n\u001b[1;32m   3817\u001b[0m     \u001b[38;5;28mself\u001b[39m\u001b[38;5;241m.\u001b[39m_check_indexing_error(key)\n",
      "\u001b[0;31mKeyError\u001b[0m: 0"
     ]
    }
   ],
   "source": [
    "df.at[0, 'MeasuredFruitSize']  # at - use row and column label"
   ]
  },
  {
   "cell_type": "markdown",
   "metadata": {},
   "source": [
    "using **indices** solves the ```ValueError```"
   ]
  },
  {
   "cell_type": "code",
   "execution_count": 30,
   "metadata": {},
   "outputs": [
    {
     "data": {
      "text/plain": [
       "45.58283"
      ]
     },
     "execution_count": 30,
     "metadata": {},
     "output_type": "execute_result"
    }
   ],
   "source": [
    "df.at['new_0', 'MeasuredFruitSize']  # at - use row and column label"
   ]
  },
  {
   "cell_type": "markdown",
   "metadata": {},
   "source": [
    "using **labels** instead of **indices** while raise and ```ValueError```"
   ]
  },
  {
   "cell_type": "code",
   "execution_count": 31,
   "metadata": {},
   "outputs": [
    {
     "ename": "ValueError",
     "evalue": "iAt based indexing can only have integer indexers",
     "output_type": "error",
     "traceback": [
      "\u001b[0;31m---------------------------------------------------------------------------\u001b[0m",
      "\u001b[0;31mValueError\u001b[0m                                Traceback (most recent call last)",
      "Cell \u001b[0;32mIn[31], line 1\u001b[0m\n\u001b[0;32m----> 1\u001b[0m \u001b[43mdf\u001b[49m\u001b[38;5;241;43m.\u001b[39;49m\u001b[43miat\u001b[49m\u001b[43m[\u001b[49m\u001b[38;5;124;43m'\u001b[39;49m\u001b[38;5;124;43mnew_0\u001b[39;49m\u001b[38;5;124;43m'\u001b[39;49m\u001b[43m,\u001b[49m\u001b[43m \u001b[49m\u001b[38;5;124;43m'\u001b[39;49m\u001b[38;5;124;43mMeasuredFruitSize\u001b[39;49m\u001b[38;5;124;43m'\u001b[39;49m\u001b[43m]\u001b[49m  \u001b[38;5;66;03m# at - use row and column label\u001b[39;00m\n",
      "File \u001b[0;32m/media/mirko/Volume/GITHUB/AgTech_Students_PythonCourse/venv/lib/python3.10/site-packages/pandas/core/indexing.py:2526\u001b[0m, in \u001b[0;36m_ScalarAccessIndexer.__getitem__\u001b[0;34m(self, key)\u001b[0m\n\u001b[1;32m   2523\u001b[0m     \u001b[38;5;28;01melse\u001b[39;00m:\n\u001b[1;32m   2524\u001b[0m         \u001b[38;5;28;01mraise\u001b[39;00m \u001b[38;5;167;01mValueError\u001b[39;00m(\u001b[38;5;124m\"\u001b[39m\u001b[38;5;124mInvalid call for scalar access (getting)!\u001b[39m\u001b[38;5;124m\"\u001b[39m)\n\u001b[0;32m-> 2526\u001b[0m key \u001b[38;5;241m=\u001b[39m \u001b[38;5;28;43mself\u001b[39;49m\u001b[38;5;241;43m.\u001b[39;49m\u001b[43m_convert_key\u001b[49m\u001b[43m(\u001b[49m\u001b[43mkey\u001b[49m\u001b[43m)\u001b[49m\n\u001b[1;32m   2527\u001b[0m \u001b[38;5;28;01mreturn\u001b[39;00m \u001b[38;5;28mself\u001b[39m\u001b[38;5;241m.\u001b[39mobj\u001b[38;5;241m.\u001b[39m_get_value(\u001b[38;5;241m*\u001b[39mkey, takeable\u001b[38;5;241m=\u001b[39m\u001b[38;5;28mself\u001b[39m\u001b[38;5;241m.\u001b[39m_takeable)\n",
      "File \u001b[0;32m/media/mirko/Volume/GITHUB/AgTech_Students_PythonCourse/venv/lib/python3.10/site-packages/pandas/core/indexing.py:2599\u001b[0m, in \u001b[0;36m_iAtIndexer._convert_key\u001b[0;34m(self, key)\u001b[0m\n\u001b[1;32m   2597\u001b[0m \u001b[38;5;28;01mfor\u001b[39;00m i \u001b[38;5;129;01min\u001b[39;00m key:\n\u001b[1;32m   2598\u001b[0m     \u001b[38;5;28;01mif\u001b[39;00m \u001b[38;5;129;01mnot\u001b[39;00m is_integer(i):\n\u001b[0;32m-> 2599\u001b[0m         \u001b[38;5;28;01mraise\u001b[39;00m \u001b[38;5;167;01mValueError\u001b[39;00m(\u001b[38;5;124m\"\u001b[39m\u001b[38;5;124miAt based indexing can only have integer indexers\u001b[39m\u001b[38;5;124m\"\u001b[39m)\n\u001b[1;32m   2600\u001b[0m \u001b[38;5;28;01mreturn\u001b[39;00m key\n",
      "\u001b[0;31mValueError\u001b[0m: iAt based indexing can only have integer indexers"
     ]
    }
   ],
   "source": [
    "df.iat['new_0', 'MeasuredFruitSize']  # at - use row and column label"
   ]
  },
  {
   "cell_type": "markdown",
   "metadata": {},
   "source": [
    "using **indices** solves the ```ValueError```"
   ]
  },
  {
   "cell_type": "code",
   "execution_count": 32,
   "metadata": {},
   "outputs": [
    {
     "data": {
      "text/plain": [
       "45.58283"
      ]
     },
     "execution_count": 32,
     "metadata": {},
     "output_type": "execute_result"
    }
   ],
   "source": [
    "df.iat[0, 1]  # at - use row and column label"
   ]
  },
  {
   "cell_type": "markdown",
   "metadata": {},
   "source": [
    "**Summary**\n",
    "\n",
    "- Use **`[]`** for selecting columns\n",
    "- Use **`.loc[row_lables, column_labels]`** to select a group of data based on row and column labels,\n",
    "- Use **`.iloc[row_positions, column_positions]`** to select a group of data based on row and column indices\n",
    "- Use **`.at[row_lables, column_labels]`**  to select and set a group of data based on row and column labels\n",
    "- Use **`.iat[row_positions, column_positions]`** to select and set a group of data based on row and column indices"
   ]
  },
  {
   "cell_type": "markdown",
   "metadata": {},
   "source": [
    "# DataFrame modifications"
   ]
  },
  {
   "cell_type": "markdown",
   "metadata": {},
   "source": [
    "## rename columns"
   ]
  },
  {
   "cell_type": "code",
   "execution_count": 51,
   "metadata": {},
   "outputs": [
    {
     "name": "stdout",
     "output_type": "stream",
     "text": [
      "initial names: ['TimeStamp', 'MeasuredFruitSize']\n",
      "\n",
      "new names: ['TimeStamp', 'FruitSize']\n"
     ]
    }
   ],
   "source": [
    "cols = df.columns.to_list()\n",
    "print(f'initial names: {cols}')\n",
    "\n",
    "# give a new name\n",
    "cols[1] = 'FruitSize'\n",
    "\n",
    "df.columns = cols\n",
    "print(f'\\nnew names: {df.columns.to_list()}')\n"
   ]
  },
  {
   "cell_type": "markdown",
   "metadata": {},
   "source": [
    "## create a new column"
   ]
  },
  {
   "cell_type": "code",
   "execution_count": 52,
   "metadata": {},
   "outputs": [
    {
     "name": "stdout",
     "output_type": "stream",
     "text": [
      "                TimeStamp  FruitSize   FruitVolume\n",
      "0     2023-07-05 19:07:22  45.582829  49565.804688\n",
      "1     2023-07-05 19:10:22  45.583561  49568.199219\n",
      "2     2023-07-05 19:13:22  45.584263  49570.488281\n",
      "3     2023-07-05 19:16:24  45.584991  49572.863281\n",
      "4     2023-07-05 19:19:26  45.584991  49572.863281\n",
      "...                   ...        ...           ...\n",
      "62453 2023-10-20 20:54:44   0.000000      0.000000\n",
      "62454 2023-10-20 20:55:01   0.000000      0.000000\n",
      "62455 2023-10-20 20:57:44   0.000000      0.000000\n",
      "62456 2023-10-20 20:58:00   0.000000      0.000000\n",
      "62457 2023-10-20 21:00:44   0.000000      0.000000\n",
      "\n",
      "[62458 rows x 3 columns]\n"
     ]
    }
   ],
   "source": [
    "df['FruitVolume'] = 4/3 * 3.14 * (df['FruitSize']/2) ** 3  # mm3\n",
    "\n",
    "print(df)"
   ]
  },
  {
   "cell_type": "markdown",
   "metadata": {},
   "source": [
    "## delete columns"
   ]
  },
  {
   "cell_type": "code",
   "execution_count": 82,
   "metadata": {},
   "outputs": [
    {
     "name": "stdout",
     "output_type": "stream",
     "text": [
      "cols: Index(['TimeStamp', 'FruitSize', 'FruitVolume', 'Dummy_Col'], dtype='object')\n",
      "cols: Index(['TimeStamp', 'FruitSize', 'FruitVolume'], dtype='object')\n"
     ]
    }
   ],
   "source": [
    "# create a random column\n",
    "df['Dummy_Col'] = 'dummy'\n",
    "\n",
    "print(f'cols: {df.columns}')\n",
    "\n",
    "\n",
    "# delete col\n",
    "df = df.drop(['Dummy_Col'], axis=1)\n",
    "\n",
    "print(f'cols: {df.columns}')\n"
   ]
  },
  {
   "cell_type": "markdown",
   "metadata": {},
   "source": [
    "# reset the index"
   ]
  },
  {
   "cell_type": "code",
   "execution_count": 48,
   "metadata": {},
   "outputs": [
    {
     "name": "stdout",
     "output_type": "stream",
     "text": [
      "            TimeStamp  MeasuredFruitSize\n",
      "0 2023-07-05 19:07:22          45.582829\n",
      "1 2023-07-05 19:10:22          45.583561\n",
      "2 2023-07-05 19:13:22          45.584263\n",
      "3 2023-07-05 19:16:24          45.584991\n",
      "4 2023-07-05 19:19:26          45.584991\n"
     ]
    }
   ],
   "source": [
    "df.reset_index(drop=True, inplace=True)\n",
    "\n",
    "print(df.head(5))"
   ]
  },
  {
   "cell_type": "markdown",
   "metadata": {},
   "source": [
    "## Data Cleaning\n",
    "\n",
    "| Operator | Description |\n",
    "|:---- |:---- |\n",
    "| **`df.columns = ['a','b','c']`** | **Rename columns** | \n",
    "| **`pd.isnull()`** | **Checks for null Values, Returns Boolean Arrray** | \n",
    "| **`pd.notnull()`** | **Opposite of pd.isnull()** | \n",
    "| **`df.dropna()`** | **Drop all rows that contain null values** | \n",
    "| **`df.dropna(axis=1)`** | **Drop all columns that contain null values** | \n",
    "| **`df.dropna(axis=1,thresh=n)`** | **Drop all rows have have less than n non null values** | \n",
    "| **`df.fillna(x)`** | **Replace all null values with x** | \n",
    "| **`s.fillna(s.mean())`** | **Replace all null values with the mean** | \n",
    "| **`s.astype(float)`** | **Convert the datatype of the series to float** | \n",
    "| **`s.replace(1,'one')`** | **Replace all values equal to 1 with 'one'** | \n",
    "| **`s.replace([2,3],['two', 'three'])`** | **Replace all 2 with 'two' and 3 with 'three'** | \n",
    "| **`df.rename(columns=lambda x: x + 1)`** | **Mass renaming of columns** | \n",
    "| **`df.rename(columns={'old_name': 'new_ name'})`** | **Selective renaming** | \n",
    "| **`df.set_index('column_one')`** | **Change the index** | \n",
    "| **`df.rename(index=lambda x: x + 1)`** | **Mass renaming of index** | "
   ]
  },
  {
   "cell_type": "markdown",
   "metadata": {},
   "source": [
    "## apply condition"
   ]
  },
  {
   "cell_type": "markdown",
   "metadata": {},
   "source": [
    "TO BE DONE"
   ]
  },
  {
   "cell_type": "markdown",
   "metadata": {},
   "source": [
    "## Sort, Groupby, Filter"
   ]
  },
  {
   "cell_type": "markdown",
   "metadata": {},
   "source": [
    "TO BE DONE"
   ]
  },
  {
   "cell_type": "markdown",
   "metadata": {},
   "source": [
    "## `df.apply(func)`"
   ]
  },
  {
   "cell_type": "markdown",
   "metadata": {},
   "source": [
    "TO BE DONE"
   ]
  },
  {
   "cell_type": "markdown",
   "metadata": {},
   "source": [
    "## iterations"
   ]
  },
  {
   "cell_type": "markdown",
   "metadata": {},
   "source": [
    "The function **`DataFrame.iterrows()`**, which can loop a DataFrame row-wise. It returns the index and row of the DataFrame in each iteration of the for a loop."
   ]
  },
  {
   "cell_type": "code",
   "execution_count": 49,
   "metadata": {},
   "outputs": [
    {
     "name": "stdout",
     "output_type": "stream",
     "text": [
      "2023-07-05 19:07:22  --- reading 0\n",
      "2023-07-05 19:10:22  --- reading 1\n",
      "2023-07-05 19:13:22  --- reading 2\n",
      "2023-07-05 19:16:24  --- reading 3\n",
      "2023-07-05 19:19:26  --- reading 4\n",
      "2023-07-05 19:22:24  --- reading 5\n"
     ]
    }
   ],
   "source": [
    "for index, row in df.iloc[0:6, :].iterrows():\n",
    "    print(f\"{row['TimeStamp']}  --- reading {index}\")"
   ]
  },
  {
   "cell_type": "markdown",
   "metadata": {},
   "source": [
    "## Join/Combine"
   ]
  },
  {
   "cell_type": "markdown",
   "metadata": {},
   "source": [
    "| Operator | Description |\n",
    "|:---- |:---- |\n",
    "| **`df1.append(df2)`** | **Add the rows in df1 to the end of df2 (columns should be identical)** | \n",
    "| **`pd.concat([df1, df2],axis=1)`** | **Add the columns in df1 to the end of df2 (rows should be identical)** | \n",
    "| **`df1.join(df2,on=col1, how='inner')`** | **SQL-style join the columns in df1 with the columns on df2 where the rows for col have identical values. The 'how' can be 'left', 'right', 'outer' or 'inner'** | "
   ]
  },
  {
   "cell_type": "markdown",
   "metadata": {},
   "source": [
    "# Statistics"
   ]
  },
  {
   "cell_type": "code",
   "execution_count": 84,
   "metadata": {},
   "outputs": [
    {
     "data": {
      "text/plain": [
       "TimeStamp      31-Jul-2023 23:59:48\n",
       "FruitSize                 68.168422\n",
       "FruitVolume           165778.470535\n",
       "dtype: object"
      ]
     },
     "execution_count": 84,
     "metadata": {},
     "output_type": "execute_result"
    }
   ],
   "source": [
    "df.max(axis=0)  # max value of each column (axis 0)"
   ]
  },
  {
   "cell_type": "code",
   "execution_count": 92,
   "metadata": {},
   "outputs": [
    {
     "data": {
      "text/plain": [
       "'31-Jul-2023 23:59:48'"
      ]
     },
     "execution_count": 92,
     "metadata": {},
     "output_type": "execute_result"
    }
   ],
   "source": [
    "df['TimeStamp'].max()"
   ]
  },
  {
   "cell_type": "code",
   "execution_count": 87,
   "metadata": {},
   "outputs": [
    {
     "data": {
      "text/plain": [
       "TimeStamp      01-Aug-2023 00:02:48\n",
       "FruitSize                       0.0\n",
       "FruitVolume                     0.0\n",
       "dtype: object"
      ]
     },
     "execution_count": 87,
     "metadata": {},
     "output_type": "execute_result"
    }
   ],
   "source": [
    "df.min(axis=0)  # min value of each column (axis 0)"
   ]
  },
  {
   "cell_type": "code",
   "execution_count": 93,
   "metadata": {},
   "outputs": [
    {
     "data": {
      "text/plain": [
       "'01-Aug-2023 00:02:48'"
      ]
     },
     "execution_count": 93,
     "metadata": {},
     "output_type": "execute_result"
    }
   ],
   "source": [
    "df['TimeStamp'].min()"
   ]
  },
  {
   "cell_type": "code",
   "execution_count": 90,
   "metadata": {},
   "outputs": [
    {
     "data": {
      "text/plain": [
       "50.39445018809875"
      ]
     },
     "execution_count": 90,
     "metadata": {},
     "output_type": "execute_result"
    }
   ],
   "source": [
    "df['FruitSize'].mean()"
   ]
  },
  {
   "cell_type": "code",
   "execution_count": 95,
   "metadata": {},
   "outputs": [
    {
     "data": {
      "text/plain": [
       "56.40313175"
      ]
     },
     "execution_count": 95,
     "metadata": {},
     "output_type": "execute_result"
    }
   ],
   "source": [
    "df['FruitSize'].median()"
   ]
  },
  {
   "cell_type": "code",
   "execution_count": 96,
   "metadata": {},
   "outputs": [
    {
     "data": {
      "text/plain": [
       "22.062109965242843"
      ]
     },
     "execution_count": 96,
     "metadata": {},
     "output_type": "execute_result"
    }
   ],
   "source": [
    "df['FruitSize'].std()"
   ]
  },
  {
   "cell_type": "code",
   "execution_count": 99,
   "metadata": {},
   "outputs": [
    {
     "data": {
      "text/plain": [
       "3147536.569848272"
      ]
     },
     "execution_count": 99,
     "metadata": {},
     "output_type": "execute_result"
    }
   ],
   "source": [
    "df['FruitSize'].sum()"
   ]
  },
  {
   "cell_type": "code",
   "execution_count": 100,
   "metadata": {},
   "outputs": [
    {
     "data": {
      "text/plain": [
       "62458"
      ]
     },
     "execution_count": 100,
     "metadata": {},
     "output_type": "execute_result"
    }
   ],
   "source": [
    "df['FruitSize'].count()"
   ]
  },
  {
   "cell_type": "code",
   "execution_count": 98,
   "metadata": {},
   "outputs": [
    {
     "data": {
      "text/html": [
       "<div>\n",
       "<style scoped>\n",
       "    .dataframe tbody tr th:only-of-type {\n",
       "        vertical-align: middle;\n",
       "    }\n",
       "\n",
       "    .dataframe tbody tr th {\n",
       "        vertical-align: top;\n",
       "    }\n",
       "\n",
       "    .dataframe thead th {\n",
       "        text-align: right;\n",
       "    }\n",
       "</style>\n",
       "<table border=\"1\" class=\"dataframe\">\n",
       "  <thead>\n",
       "    <tr style=\"text-align: right;\">\n",
       "      <th></th>\n",
       "      <th>FruitSize</th>\n",
       "      <th>FruitVolume</th>\n",
       "    </tr>\n",
       "  </thead>\n",
       "  <tbody>\n",
       "    <tr>\n",
       "      <th>FruitSize</th>\n",
       "      <td>1.000000</td>\n",
       "      <td>0.908845</td>\n",
       "    </tr>\n",
       "    <tr>\n",
       "      <th>FruitVolume</th>\n",
       "      <td>0.908845</td>\n",
       "      <td>1.000000</td>\n",
       "    </tr>\n",
       "  </tbody>\n",
       "</table>\n",
       "</div>"
      ],
      "text/plain": [
       "             FruitSize  FruitVolume\n",
       "FruitSize     1.000000     0.908845\n",
       "FruitVolume   0.908845     1.000000"
      ]
     },
     "execution_count": 98,
     "metadata": {},
     "output_type": "execute_result"
    }
   ],
   "source": [
    "# compute correlation of all variables apart for TimeStamp using all records\n",
    "df.iloc[:, 1:].corr(method='pearson')"
   ]
  },
  {
   "cell_type": "markdown",
   "metadata": {},
   "source": [
    "# Importing Data\n",
    "\n",
    "| Operator | Description |\n",
    "|:---- |:---- |\n",
    "| **`pd.read_csv(filename)`** | **From a CSV file** | \n",
    "| **`pd.read_table(filename)`** | **From a delimited text file (like TSV)** | \n",
    "| **`pd.read_excel(filename)`** | **From an Excel file** | \n",
    "| **`pd.read_sql(query, connection_object)`** | **Read from a SQL table/database** | \n",
    "| **`pd.read_json(json_string)`** | **Read from a JSON formatted string, URL or file.** | \n",
    "| **`pd.read_html(url)`** | **Parses an html URL, string or file and extracts tables to a list of dataframes** | \n",
    "| **`pd.read_clipboard()`** | **Takes the contents of your clipboard and passes it to read_table()** | \n",
    "| **`pd.DataFrame(dict)`** | **From a dict, keys for columns names, values for data as lists** |"
   ]
  },
  {
   "cell_type": "code",
   "execution_count": 59,
   "metadata": {},
   "outputs": [
    {
     "name": "stdout",
     "output_type": "stream",
     "text": [
      "                  TimeStamp  MeasuredFruitSize\n",
      "0      05-Jul-2023 19:07:22          45.582827\n",
      "1      05-Jul-2023 19:10:22          45.583562\n",
      "2      05-Jul-2023 19:13:22          45.584263\n",
      "3      05-Jul-2023 19:16:24          45.584992\n",
      "4      05-Jul-2023 19:19:26          45.584992\n",
      "...                     ...                ...\n",
      "62453  20-Oct-2023 20:54:44           0.000000\n",
      "62454  20-Oct-2023 20:55:01           0.000000\n",
      "62455  20-Oct-2023 20:57:44           0.000000\n",
      "62456  20-Oct-2023 20:58:00           0.000000\n",
      "62457  20-Oct-2023 21:00:44           0.000000\n",
      "\n",
      "[62458 rows x 2 columns]\n"
     ]
    }
   ],
   "source": [
    "# import data from a CSV file into a dataframe (df) object\n",
    "df = pd.read_csv('../data/text_delimited/fruit_gauge.csv')\n",
    "\n",
    "print(df)"
   ]
  },
  {
   "cell_type": "markdown",
   "metadata": {},
   "source": [
    "**To import excel files** it is important to install `openpyxl`, thus in the *Anaconda Prompt* with your *venv* active do:\n",
    "\n",
    "```ssh\n",
    "pip install openpyxl\n",
    "```"
   ]
  },
  {
   "cell_type": "code",
   "execution_count": 68,
   "metadata": {},
   "outputs": [
    {
     "name": "stdout",
     "output_type": "stream",
     "text": [
      "                     Time  TAVG  PREC  RHAVG  RAD  W_SCAL_INT  W_VEC_DIR  \\\n",
      "0     2022-01-01 00:00:00   3.3   0.0   95.3  0.0         1.0      255.1   \n",
      "1     2022-01-01 01:00:00   2.1   0.0   99.5  0.0         0.9      158.9   \n",
      "2     2022-01-01 02:00:00   1.8   0.0  100.0  0.0         1.0      158.1   \n",
      "3     2022-01-01 03:00:00   1.2   0.0  100.0  0.0         1.0       14.6   \n",
      "4     2022-01-01 04:00:00   0.9   0.0  100.0  0.0         0.1      285.3   \n",
      "...                   ...   ...   ...    ...  ...         ...        ...   \n",
      "8755  2022-12-31 19:00:00  10.4   0.0   88.9  0.0         0.2      181.0   \n",
      "8756  2022-12-31 20:00:00  10.3   0.0   89.1  0.0         0.6      144.8   \n",
      "8757  2022-12-31 21:00:00  10.2   0.0   89.9  0.0         0.1      185.4   \n",
      "8758  2022-12-31 22:00:00  10.0   0.0   89.1  0.0         0.2      281.7   \n",
      "8759  2022-12-31 23:00:00   9.6   0.0   87.7  0.0         0.2      269.3   \n",
      "\n",
      "      W_VEC_INT  LEAFW  ET0  \n",
      "0           0.9      1  0.0  \n",
      "1           0.8      1  0.0  \n",
      "2           0.9      1  0.0  \n",
      "3           0.9      1  0.0  \n",
      "4           0.1      1  0.0  \n",
      "...         ...    ...  ...  \n",
      "8755        0.2      0  0.0  \n",
      "8756        0.6      1  0.0  \n",
      "8757        0.1      1  0.0  \n",
      "8758        0.1      1  0.0  \n",
      "8759        0.2      0  0.0  \n",
      "\n",
      "[8760 rows x 10 columns]\n"
     ]
    }
   ],
   "source": [
    "# import data from the frst sheet of a xls file into a dataframe (df) object\n",
    "df = pd.read_excel('../data/spreadsheet/weather2022.xlsx')\n",
    "\n",
    "print(df)"
   ]
  },
  {
   "cell_type": "markdown",
   "metadata": {},
   "source": [
    "If the excel file is composed of **multiple sheets**:"
   ]
  },
  {
   "cell_type": "code",
   "execution_count": 70,
   "metadata": {},
   "outputs": [
    {
     "name": "stdout",
     "output_type": "stream",
     "text": [
      "Sheet names:\n",
      "hourly\n",
      "daily\n"
     ]
    }
   ],
   "source": [
    "xls = pd.ExcelFile('../data/spreadsheet/weather2022.xlsx')\n",
    "\n",
    "# Get sheet names\n",
    "sheet_names = xls.sheet_names\n",
    "\n",
    "# Print sheet names\n",
    "print(\"Sheet names:\")\n",
    "for sheet_name in sheet_names:\n",
    "    print(sheet_name)"
   ]
  },
  {
   "cell_type": "code",
   "execution_count": 71,
   "metadata": {},
   "outputs": [
    {
     "name": "stdout",
     "output_type": "stream",
     "text": [
      "          Date  DAILY_TMIN  DAILY_TMAX  DAILY_TAVG  DAILY_PREC  DAILY_RHAVG  \\\n",
      "0   2022-01-01         0.0         4.2         2.2         0.2         99.1   \n",
      "1   2022-01-02        -1.2        12.3         3.6         0.4         97.1   \n",
      "2   2022-01-03         2.6         4.2         3.5         0.2         99.2   \n",
      "3   2022-01-04         2.5         5.9         4.4         0.2         99.6   \n",
      "4   2022-01-05         3.2        15.7         8.3        18.4         91.7   \n",
      "..         ...         ...         ...         ...         ...          ...   \n",
      "360 2022-12-27         7.0         9.1         8.2         0.2         95.2   \n",
      "361 2022-12-28         3.6        11.7         7.8         0.0         94.7   \n",
      "362 2022-12-29         6.2        11.2         8.3         0.5         95.4   \n",
      "363 2022-12-30         7.1        10.2         8.6         0.2         94.2   \n",
      "364 2022-12-31         6.6        13.2        10.0         0.0         86.9   \n",
      "\n",
      "     DAILY_RAD  DAILY_ET0_HS  DAILY_ET0_PM  DAILY_LEAFW  \n",
      "0          2.8           0.4           0.2           22  \n",
      "1          6.5           0.9           0.6           18  \n",
      "2          1.9           0.3           0.2           24  \n",
      "3          2.8           0.4           0.2           24  \n",
      "4          2.0           1.0           0.5           17  \n",
      "..         ...           ...           ...          ...  \n",
      "360        1.7           0.4           0.2           23  \n",
      "361        3.4           0.7           0.4           20  \n",
      "362        4.0           0.6           0.4           24  \n",
      "363        2.2           0.5           0.3           24  \n",
      "364        3.9           0.7           0.4           13  \n",
      "\n",
      "[365 rows x 10 columns]\n"
     ]
    }
   ],
   "source": [
    "# then open the sheet you need as a dataframe\n",
    "df = pd.read_excel('../data/spreadsheet/weather2022.xlsx', sheet_name='daily')\n",
    "\n",
    "print(df)"
   ]
  },
  {
   "cell_type": "markdown",
   "metadata": {},
   "source": [
    "# Exporting Data\n",
    "\n",
    "| Operator | Description |\n",
    "|:---- |:---- |\n",
    "| **`df.to_csv(filename)`** | **Write to a CSV file** | \n",
    "| **`df.to_excel(filename)`** | **Write to an Excel file** | \n",
    "| **`df.to_sql(table_name, connection_object)`** | **Write to a SQL table** | \n",
    "| **`df.to_json(filename)`** | **Write to a file in JSON format** |"
   ]
  },
  {
   "cell_type": "markdown",
   "metadata": {},
   "source": [
    "# Basic plotting"
   ]
  },
  {
   "cell_type": "markdown",
   "metadata": {},
   "source": [
    "[Link](https://pandas.pydata.org/docs/reference/api/pandas.DataFrame.plot.html) to find more documentation on Pandas dataframe's plotting."
   ]
  },
  {
   "cell_type": "code",
   "execution_count": 58,
   "metadata": {},
   "outputs": [
    {
     "data": {
      "text/plain": [
       "<Axes: title={'center': 'DataFrame Timeseries plot'}, xlabel='TimeStamp', ylabel='FruitSize'>"
      ]
     },
     "execution_count": 58,
     "metadata": {},
     "output_type": "execute_result"
    },
    {
     "data": {
      "image/png": "[encoded data removed]",
      "text/plain": [
       "<Figure size 640x480 with 1 Axes>"
      ]
     },
     "metadata": {},
     "output_type": "display_data"
    }
   ],
   "source": [
    "df.plot.scatter('TimeStamp', 'FruitSize', \n",
    "                title=\"DataFrame Timeseries plot\")"
   ]
  }
 ],
 "metadata": {
  "kernelspec": {
   "display_name": "venv",
   "language": "python",
   "name": "python3"
  },
  "language_info": {
   "codemirror_mode": {
    "name": "ipython",
    "version": 3
   },
   "file_extension": ".py",
   "mimetype": "text/x-python",
   "name": "python",
   "nbconvert_exporter": "python",
   "pygments_lexer": "ipython3",
   "version": "3.10.12"
  }
 },
 "nbformat": 4,
 "nbformat_minor": 2
}
