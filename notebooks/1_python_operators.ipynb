{
 "cells": [
  {
   "cell_type": "markdown",
   "metadata": {},
   "source": [
    "&copy; Mirko Piani - *PhD student in Precision Orchard Management (POM), university of Bologna (IT)*\n",
    "___\n",
    "\n",
    "If you are having problems with the notebook, contact me at mirko.piani2@unibo.it"
   ]
  },
  {
   "cell_type": "markdown",
   "metadata": {},
   "source": [
    "# Python Operators"
   ]
  },
  {
   "cell_type": "markdown",
   "metadata": {},
   "source": [
    "Operators are special symbols in python that carry out arthimetic and logical operations."
   ]
  },
  {
   "cell_type": "code",
   "execution_count": 2,
   "metadata": {},
   "outputs": [
    {
     "data": {
      "text/plain": [
       "7"
      ]
     },
     "execution_count": 2,
     "metadata": {},
     "output_type": "execute_result"
    }
   ],
   "source": [
    "# example\n",
    "2 + 5"
   ]
  },
  {
   "cell_type": "markdown",
   "metadata": {},
   "source": [
    "in this case, the operator symbol `+` is allowing to sum the two integer numbers"
   ]
  },
  {
   "cell_type": "markdown",
   "metadata": {},
   "source": [
    "## Operator Types"
   ]
  },
  {
   "cell_type": "markdown",
   "metadata": {},
   "source": [
    "There are different types of operators:\n",
    "1. Arithmetic operators: \n",
    "   - *addition* `+`,\n",
    "   - *subtraction* `-`,\n",
    "   - *multiplication* `*`,\n",
    "   - *floating-point division* `/`,\n",
    "   - *floor-division* `//`,\n",
    "   - *exponentiation* `**`.\n",
    "  \n",
    "2. Comparison operators\n",
    "   - *is equal* `==`,\n",
    "   - *is different* `!=`,\n",
    "   - *is lower than* `<`,\n",
    "   - *is greater than* `>`,\n",
    "   - *is lower or equal to* `<=`,\n",
    "   - *is greater or equal to* `>=`.\n",
    "  \n",
    "3. Logical operators\n",
    "   - *AND*,```and``` - gives `True` if both operands are `True`\n",
    "   - *OR*, ```or``` - gives `True` if at least one operand is `True`\n",
    "   - *NOT*,```and not``` - gives `True` if operand is `False`\n",
    "\n",
    "4. Bitwise operators\n",
    "   - *Bitwise AND*, `&`\n",
    "   - *Bitwise OR*, `|`\n",
    "   - *Bitwise NOT*, `~`\n",
    "   - *Bitwise XOR*, `^`\n",
    "   - *Bitwise Right Shift*, `>>`\n",
    "   - *Bitwise Left Shift*, `<<`\n",
    "\n",
    "5. Assignment operators\n",
    "   - *assignment operator*, `=`\n",
    "   - *addition assignment operator*, `+=`\n",
    "   - *subtraction assignment operator*, `-=`\n",
    "   - *multiplication assignment operator*, `*=`\n",
    "   - *division assignment operator*, `/=`\n",
    "   - *floor-division assignment operator*, `//=`\n",
    "   - *exponentiation assignment operator*, `**=`\n",
    "\n",
    "6. Special operators\n",
    "\n",
    "   - `is` - gives `True` if the operands are identical\n",
    "   - `is not` - gives `True` if the operands are not identical\n",
    "   - `in` - gives `True` if value / variable is found in sequence\n",
    "   - `not in` - gives `True` if value / variable is not found in the sequence\n"
   ]
  },
  {
   "cell_type": "markdown",
   "metadata": {},
   "source": [
    "## Arithmetic operators"
   ]
  },
  {
   "cell_type": "code",
   "execution_count": 4,
   "metadata": {},
   "outputs": [
    {
     "name": "stdout",
     "output_type": "stream",
     "text": [
      "x + y = 21\n",
      "x - y = 9\n",
      "x * y = 90 \n",
      "x / y = 2.5 \n",
      "x // y = 2\n",
      "x ** y = 11390625\n"
     ]
    }
   ],
   "source": [
    "x = 15\n",
    "y = 6\n",
    "\n",
    "# Addition Operator\n",
    "print(f'x + y = { x + y}')\n",
    "\n",
    "# Subtraction Operator\n",
    "print(f'x - y = { x - y}')\n",
    "\n",
    "# Multiplication Operator\n",
    "print(f'x * y = { x * y} ')\n",
    "\n",
    "# Division Operator\n",
    "print(f'x / y = { x / y} ') \n",
    "print(f'x // y = { x // y}')\n",
    "\n",
    "# Exponential Operator\n",
    "print(f'x ** y = { x ** y}')\n"
   ]
  },
  {
   "cell_type": "markdown",
   "metadata": {},
   "source": [
    "## Comparison operators"
   ]
  },
  {
   "cell_type": "code",
   "execution_count": 5,
   "metadata": {},
   "outputs": [
    {
     "name": "stdout",
     "output_type": "stream",
     "text": [
      "x == y = False\n",
      "x != y = True\n",
      "x > y = False\n",
      "x >= y = False\n",
      "x < y = True \n",
      "x <= y = True \n"
     ]
    }
   ],
   "source": [
    "x = 1\n",
    "y = 6\n",
    "\n",
    "# Equal To Operator\n",
    "print(f'x == y = { x == y}')\n",
    "\n",
    "# Not Equal To Operator\n",
    "print(f'x != y = { x != y}')\n",
    "\n",
    "# Greater Than Operator\n",
    "print(f'x > y = { x > y}')\n",
    "\n",
    "# Greater Than or Equal To\n",
    "print(f'x >= y = { x >= y}')\n",
    "\n",
    "# Lesser Than Operator\n",
    "print(f'x < y = { x < y} ')\n",
    "\n",
    "# Lesser Than or Equal To\n",
    "print(f'x <= y = { x <= y} ') \n"
   ]
  },
  {
   "cell_type": "markdown",
   "metadata": {},
   "source": [
    "## Logical operators"
   ]
  },
  {
   "cell_type": "code",
   "execution_count": 9,
   "metadata": {},
   "outputs": [
    {
     "name": "stdout",
     "output_type": "stream",
     "text": [
      "var1 and var2 = False\n",
      "var1 or var2 = True\n",
      "var1 and not var2 = True\n"
     ]
    }
   ],
   "source": [
    "var1 = True\n",
    "var2 = False\n",
    "\n",
    "# and\n",
    "print(f'var1 and var2 = { var1 and var2}')\n",
    "\n",
    "# or\n",
    "print(f'var1 or var2 = { var1 or var2}')\n",
    "\n",
    "# not\n",
    "print(f'var1 and not var2 = { var1 and not var2}')"
   ]
  },
  {
   "cell_type": "markdown",
   "metadata": {},
   "source": [
    "## Bitwise operators"
   ]
  },
  {
   "cell_type": "code",
   "execution_count": 11,
   "metadata": {},
   "outputs": [
    {
     "name": "stdout",
     "output_type": "stream",
     "text": [
      "x & y = 0\n",
      "x | y = 15\n",
      "x != y = True\n",
      "x ^ y = 15\n",
      "x >> y = 0 \n",
      "x << y = 320 \n"
     ]
    }
   ],
   "source": [
    "x = 10\n",
    "y = 5\n",
    "\n",
    "# Bitwise AND\n",
    "print(f'x & y = { x & y}')\n",
    "\n",
    "# Bitwise OR\n",
    "print(f'x | y = { x | y}')\n",
    "\n",
    "# Bitwise NOT\n",
    "print(f'x != y = { x != y}')\n",
    "\n",
    "# Bitwise XOR\n",
    "print(f'x ^ y = { x ^ y}')\n",
    "\n",
    "# Right Shift\n",
    "print(f'x >> y = { x >> y} ')\n",
    "\n",
    "# Left Shift\n",
    "print(f'x << y = { x << y} ') \n"
   ]
  },
  {
   "cell_type": "markdown",
   "metadata": {},
   "source": [
    "What is the logic behind that? how is it possible to get `15` or `320` from `10` and `5`?"
   ]
  },
  {
   "cell_type": "markdown",
   "metadata": {},
   "source": [
    "*8bit Binary numbers*\n",
    "\n",
    "| $ 2^7 $ | $ 2^6 $ | $ 2^5 $ | $ 2^4 $ | $ 2^3 $ | $ 2^2 $ | $ 2^1 $ | $ 2^0 $ | "
   ]
  },
  {
   "cell_type": "markdown",
   "metadata": {},
   "source": [
    "Binary representation:\n",
    "- `x` (10) in binary: `1010`\n",
    "- `y` (5) in binary: `0101`"
   ]
  },
  {
   "cell_type": "markdown",
   "metadata": {},
   "source": [
    "Thus,\n",
    "\n",
    "| value | $ 2^7 $ | $ 2^6 $ | $ 2^5 $ | $ 2^4 $ | $ 2^3 $ | $ 2^2 $ | $ 2^1 $ | $ 2^0 $ |\n",
    "| ---|---|---|---|---|---|---|---|---|\n",
    "| 10 | 0 | 0 | 0 | 0 | **1** | **0** | **1** | **0** |\n",
    "| 5 | 0 | 0 | 0 | 0 | **0** | **1** | **0** | **1** |\n",
    "\n",
    "\n",
    "**Bitwise OR**\n",
    "\n",
    "```python\n",
    "print(f'x | y = { x | y}')\n",
    "\n",
    "```\n",
    "\n",
    "the code above checks at bit location if a variable has a `True` (i.e. is equal to 1), if it is,it returns 1 at that bit location. Thus, it returns:\n",
    "\n",
    "| value | $ 2^7 $ | $ 2^6 $ | $ 2^5 $ | $ 2^4 $ | $ 2^3 $ | $ 2^2 $ | $ 2^1 $ | $ 2^0 $ |\n",
    "| ---|---|---|---|---|---|---|---|---|\n",
    "| 10 | 0 | 0 | 0 | 0 | **1** | **0** | **1** | **0** |\n",
    "| 5 | 0 | 0 | 0 | 0 | **0** | **1** | **0** | **1** |\n",
    "| **output** | 0 | 0 | 0 | 0 | **1** | **1** | **1** | **1** |\n",
    "\n",
    "\n",
    "The binary `1111` is $ 8 (2^3) + 4 (2^2) + 2 (2^1) + 1 (2^0) = 15$\n",
    "\n",
    "\n",
    "**Left Shift** - shift the first number `x` to the left by `y` times `0`\n",
    "\n",
    "```python\n",
    "print(f'x << y = { x << y}')\n",
    "\n",
    "```\n",
    "\n",
    "the code above checks at bit location if a variable has a `True` (i.e. is equal to 1), if it is,it returns 1 at that bit location. Thus, it returns:\n",
    "\n",
    "**Left Shift** \n",
    "```yaml\n",
    "    Before left shift:  1010\n",
    "    After left shift: 101000000\n",
    "\n",
    "```\n",
    "\n",
    "Thus: \n",
    "```scss\n",
    "\n",
    "(1 * 2^8) + (0 * 2^7) + (1 * 2^6) + (0 * 2^5) + (0 * 2^4) + (0 * 2^3) + (0 * 2^2) + (0 * 2^1) + (0 * 2^0)\n",
    "= (1 * 256) + (0 * 128) + (1 * 64) + (0 * 32) + (0 * 16) + (0 * 8) + (0 * 4) + (0 * 2) + (0 * 1)\n",
    "= 256 + 0 + 64 + 0 + 0 + 0 + 0 + 0 + 0\n",
    "= 320\n",
    "\n",
    "\n",
    "```"
   ]
  },
  {
   "cell_type": "markdown",
   "metadata": {},
   "source": [
    "## Assignment operators"
   ]
  },
  {
   "cell_type": "code",
   "execution_count": 17,
   "metadata": {},
   "outputs": [
    {
     "name": "stdout",
     "output_type": "stream",
     "text": [
      "starting value: 5\n",
      "10\n",
      "5\n",
      "25\n",
      "5.0\n",
      "2.0\n",
      "0.0\n",
      "100\n"
     ]
    }
   ],
   "source": [
    "a = 5\n",
    "print(f'starting value: {a}')\n",
    "\n",
    "a += 5  # take the value of a, add 5 to it, and reassign the output to variable a. Thus a = a + 5\n",
    "print(a)\n",
    "\n",
    "a -= 5  # a = a - 5 \n",
    "print(a)\n",
    "\n",
    "a *= 5  # a = a * 5\n",
    "print(a)\n",
    "\n",
    "a /= 5  # a = a / 5\n",
    "print(a)\n",
    "\n",
    "a //= 2  # a = a // 2\n",
    "print(a)\n",
    "\n",
    "a %= 1  # a = a % 1\n",
    "print(a)\n",
    "\n",
    "a = 10\n",
    "a **= 2  # a = a ** 2\n",
    "print(a)"
   ]
  },
  {
   "cell_type": "markdown",
   "metadata": {},
   "source": [
    "## Special operators"
   ]
  },
  {
   "cell_type": "code",
   "execution_count": 18,
   "metadata": {},
   "outputs": [
    {
     "name": "stdout",
     "output_type": "stream",
     "text": [
      "x1 is y1 =  True\n",
      "x1 is y2 =  False\n",
      "x3 is not y3 =  True\n"
     ]
    }
   ],
   "source": [
    "x1 = 2  # int data type\n",
    "y1 = 2  # int\n",
    "x2 = 'Hello'  # string\n",
    "y2 = \"Hello\"  # string\n",
    "x3 = [1,2,3]  # list\n",
    "y3 = (1,2,3)  # tuple\n",
    "\n",
    "print('x1 is y1 = ', x1 is y1)\n",
    "print('x1 is y2 = ', x1 is y2)\n",
    "print('x3 is not y3 = ', x3 is not y3)"
   ]
  },
  {
   "cell_type": "code",
   "execution_count": 15,
   "metadata": {},
   "outputs": [
    {
     "name": "stdout",
     "output_type": "stream",
     "text": [
      "'H' in x  True\n",
      "hello not in x  True\n",
      "1 in y =  True\n",
      "a in y =  False\n"
     ]
    }
   ],
   "source": [
    "x = 'Hello World'\n",
    "y = {1:'a', 2:'b'}\n",
    "\n",
    "print(\"'H' in x \", 'H' in x)\n",
    "print('hello not in x ','hello' not in x)\n",
    "print('1 in y = ', 1 in y)\n",
    "print('a in y = ', a in y)"
   ]
  }
 ],
 "metadata": {
  "kernelspec": {
   "display_name": "venv",
   "language": "python",
   "name": "python3"
  },
  "language_info": {
   "codemirror_mode": {
    "name": "ipython",
    "version": 3
   },
   "file_extension": ".py",
   "mimetype": "text/x-python",
   "name": "python",
   "nbconvert_exporter": "python",
   "pygments_lexer": "ipython3",
   "version": "3.10.12"
  }
 },
 "nbformat": 4,
 "nbformat_minor": 2
}
