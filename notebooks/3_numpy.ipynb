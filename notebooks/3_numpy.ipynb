{
 "cells": [
  {
   "cell_type": "markdown",
   "metadata": {},
   "source": [
    "&copy; Mirko Piani - *PhD student in Precision Orchard Management (POM), university of Bologna (IT)*\n",
    "___\n",
    "\n",
    "If you are having problems with the notebook, contact me at mirko.piani2@unibo.it"
   ]
  },
  {
   "cell_type": "markdown",
   "metadata": {},
   "source": [
    "![numpy-logo](https://numpy.org/devdocs/_static/numpylogo.svg) \n",
    "\n",
    "[Numpy: from Begginners to Advanced tutorials](https://numpy.org/learn/)"
   ]
  },
  {
   "cell_type": "markdown",
   "metadata": {},
   "source": [
    "Learning [NumPy](https://numpy.org/devdocs/user/whatisnumpy.html) in Python is highly beneficial, especially if you are working in fields such as data science, machine learning, scientific computing, or any domain that requires numerical computations. At the core of the *Numpy* package is the `ndarray` object. This encapsulates *n*-dimensional arrays of homogeneous data types, with many operations being performed in compiled code for performance."
   ]
  },
  {
   "cell_type": "markdown",
   "metadata": {},
   "source": [
    "There are several important differences between NumPy arrays and the standard Python sequences:\n",
    "\n",
    "- NumPy arrays have a **fixed size at creation**, unlike Python lists (which can grow dynamically). Changing the size of an `ndarray` will create a new array and **delete the original**.\n",
    "\n",
    "- The elements in a *NumPy* array are all required to be of the **same data type**, and thus will be the same size in memory. \n",
    "\n",
    "- **NumPy arrays facilitate advanced mathematical and other types of operations on large numbers of data**. Typically, such operations are executed more efficiently and with less code than is possible using Python’s built-in sequences.\n",
    "\n",
    "The points about sequence size and speed are particularly important in scientific computing."
   ]
  },
  {
   "cell_type": "code",
   "execution_count": 70,
   "metadata": {},
   "outputs": [],
   "source": [
    "import time\n",
    "import numpy as np\n",
    "import matplotlib.pyplot as plt"
   ]
  },
  {
   "cell_type": "markdown",
   "metadata": {},
   "source": [
    "## Speed test"
   ]
  },
  {
   "cell_type": "markdown",
   "metadata": {},
   "source": [
    "> **Example**: consider the case of multiplying each element in a 1-D sequence (= vector) with the corresponding element in another sequence of the same length. \n",
    "\n",
    "If the data are stored in two Python **lists**, `a` and `b`, we could iterate over each element:"
   ]
  },
  {
   "cell_type": "code",
   "execution_count": 32,
   "metadata": {},
   "outputs": [
    {
     "name": "stdout",
     "output_type": "stream",
     "text": [
      "[20, 20, 90, 160, 200, 180]\n",
      "elapsed_time_list=  0.0074 s\n"
     ]
    }
   ],
   "source": [
    "a = [10, 20, 30, 40, 50 , 60]  # list\n",
    "b = [2, 1, 3, 4, 4 , 3]  # list\n",
    "\n",
    "start = time.time()\n",
    "c = []\n",
    "for i in range(len(a)):\n",
    "    c.append(a[i]*b[i])\n",
    "\n",
    "end = time.time()\n",
    "elapsed_time_list = end - start\n",
    "\n",
    "print(c)\n",
    "print(f'{elapsed_time_list= : .4f} s')"
   ]
  },
  {
   "cell_type": "markdown",
   "metadata": {},
   "source": [
    "This produces the correct answer, but if `a` and `b` each contain **millions of numbers**, we will pay the price for the inefficiencies of looping in Python."
   ]
  },
  {
   "cell_type": "markdown",
   "metadata": {},
   "source": [
    "*NumPy* gives us the best: **element-by-element operations** are the “default mode” when an `ndarray` is involved, and the element-by-element operation is **speedily executed by pre-compiled C code**."
   ]
  },
  {
   "cell_type": "markdown",
   "metadata": {},
   "source": [
    "### `for` loop"
   ]
  },
  {
   "cell_type": "code",
   "execution_count": 41,
   "metadata": {},
   "outputs": [
    {
     "name": "stdout",
     "output_type": "stream",
     "text": [
      "elapsed_time_list_for =  0.1053 s\n"
     ]
    }
   ],
   "source": [
    "size = 1_000_000  # Size of the arrays/lists\n",
    "\n",
    "a = list(range(size))\n",
    "b = list(range(size, 2*size))\n",
    "\n",
    "start = time.time()\n",
    "c = []\n",
    "for i in range(len(a)):\n",
    "    c.append(a[i]*b[i])\n",
    "\n",
    "end = time.time()\n",
    "elapsed_time_list_for = end - start\n",
    "\n",
    "# print(c)\n",
    "print(f'{elapsed_time_list_for = : .4f} s')\n"
   ]
  },
  {
   "cell_type": "markdown",
   "metadata": {},
   "source": [
    "### list comprehension"
   ]
  },
  {
   "cell_type": "code",
   "execution_count": 51,
   "metadata": {},
   "outputs": [
    {
     "name": "stdout",
     "output_type": "stream",
     "text": [
      "elapsed_time_list_compr=  0.0682 s\n"
     ]
    }
   ],
   "source": [
    "size = 1_000_000  # Size of the arrays/lists\n",
    "\n",
    "a = list(range(size))\n",
    "b = list(range(size, 2*size))\n",
    "\n",
    "start = time.time()\n",
    "# avoiding loop inefficiency with LIST COMPREHENSION\n",
    "c = [a[i] * b[i] for i in range(size)]\n",
    "\n",
    "end = time.time()\n",
    "elapsed_time_list_compr = end - start\n",
    "\n",
    "# print(c)\n",
    "print(f'{elapsed_time_list_compr= : .4f} s')\n"
   ]
  },
  {
   "cell_type": "markdown",
   "metadata": {},
   "source": [
    "### Numpy"
   ]
  },
  {
   "cell_type": "code",
   "execution_count": 71,
   "metadata": {},
   "outputs": [
    {
     "name": "stdout",
     "output_type": "stream",
     "text": [
      "elapsed_time_numpy=  0.0095\n"
     ]
    }
   ],
   "source": [
    "size = 1_000_000  # Size of the arrays/lists\n",
    "a = list(range(size))\n",
    "b = list(range(size, 2*size))\n",
    "\n",
    "# generate two vectors\n",
    "a = np.array(a)\n",
    "b = np.array(b)\n",
    "\n",
    "start = time.time()\n",
    "# element-wise operation\n",
    "c = a * b\n",
    "\n",
    "end = time.time()\n",
    "elapsed_time_numpy = end - start\n",
    "\n",
    "print(f'{elapsed_time_numpy= : .4f}')"
   ]
  },
  {
   "cell_type": "code",
   "execution_count": 69,
   "metadata": {},
   "outputs": [
    {
     "data": {
      "image/png": "[encoded data removed]",
      "text/plain": [
       "<Figure size 700x400 with 1 Axes>"
      ]
     },
     "metadata": {},
     "output_type": "display_data"
    }
   ],
   "source": [
    "# plot the results \n",
    "\n",
    "plt.figure(figsize=(7, 4))\n",
    "plt.bar(['list(N=6)', 'list(N=1M)_for', 'list(N=1M)_compr', 'array(N=1M)'], [elapsed_time_list, elapsed_time_list_for, elapsed_time_list_compr, elapsed_time_numpy])\n",
    "plt.title('Processing time')\n",
    "plt.ylabel('time [s]')\n",
    "plt.xlabel('Method')\n",
    "plt.grid(lw=.4)\n",
    "plt.show()"
   ]
  },
  {
   "cell_type": "markdown",
   "metadata": {},
   "source": [
    "Numpy demonstrated to be the faster in doing the *element-wise operation*"
   ]
  },
  {
   "cell_type": "markdown",
   "metadata": {},
   "source": [
    "## different shapes"
   ]
  },
  {
   "cell_type": "markdown",
   "metadata": {},
   "source": [
    "![shapes](https://hadrienj.github.io/assets/images/2.1/scalar-vector-matrix-tensor.png)"
   ]
  },
  {
   "cell_type": "markdown",
   "metadata": {},
   "source": [
    "***Scalar***\n",
    ":  is a single numerical value. It is a 0-dimensional quantity \n",
    "+ Scalars are represented by a single number\n",
    "+ They do not have any direction, only magnitude)\n",
    "\n",
    "***Vector***\n",
    ":  is an ordered list of numbers. It is a 1-dimensional array of scalars \n",
    "+ Vectors have both magnitude and direction \n",
    "+ They are often used to represent physical quantities like velocity, force, and displacement.\n",
    "+ In mathematics, a vector of length nn is called an *n*-dimensional vector.\n",
    "\n",
    "***Matrix***\n",
    ": is a 2-dimensional array of numbers, organized in *rows* and *columns* (i.e., grayscale images).\n",
    "+ Matrices can represent linear transformations, systems of linear equations, and data tables.\n",
    "+ A matrix with mm rows and nn columns is called an m×nm×n matrix.\n",
    "+ Special types of matrices include square matrices, diagonal matrices, identity matrices, and zero matrices.\n",
    "\n",
    "***Tensor***\n",
    ": is a multi-dimensional array of numbers (i.e., RGB images). \n",
    "+ Tensors are used in various fields including physics (to describe stress, strain, and elasticity), computer graphics, and machine learning (where they are used to represent data and operations in neural networks).\n",
    "+ The number of dimensions of a tensor is called its rank. For example, a rank-3 tensor has three dimensions.\n",
    "\n",
    "<center>\n",
    "\n",
    "| Concept | Dimension | Example                       |\n",
    "|---------|-----------|-------------------------------|\n",
    "| Scalar  | 0         | 55                            |\n",
    "| Vector  | 1         | [1, 2, 3]                     |\n",
    "| Matrix  | 2         | [[1, 2], [3, 4]]              |\n",
    "| Tensor  | 3+        | [[[1, 2], [3, 4]], [[5, 6], [7, 8]]] |\n",
    "\n",
    "</center>\n",
    "\n"
   ]
  },
  {
   "cell_type": "markdown",
   "metadata": {},
   "source": [
    "> Example: consider you want to multiply a *5*-dimensional vector with a Scalar."
   ]
  },
  {
   "cell_type": "markdown",
   "metadata": {},
   "source": [
    "### using lists"
   ]
  },
  {
   "cell_type": "code",
   "execution_count": 77,
   "metadata": {},
   "outputs": [
    {
     "name": "stdout",
     "output_type": "stream",
     "text": [
      "[0, 5, 10, 15, 20, 25, 30]\n",
      "elapsed_time_list=  0.0452\n"
     ]
    }
   ],
   "source": [
    "scalar = 5\n",
    "vector_size = 1_000_000  # Size of the arrays/lists\n",
    "vector = list(range(vector_size))  # list\n",
    "\n",
    "start = time.time()\n",
    "output = [value * scalar for value in vector]\n",
    "end = time.time()\n",
    "\n",
    "elapsed_time_list = end - start\n",
    "\n",
    "\n",
    "print(output[0:7])\n",
    "print(f'{elapsed_time_list= : .4f}')"
   ]
  },
  {
   "cell_type": "markdown",
   "metadata": {},
   "source": [
    "### using numpy"
   ]
  },
  {
   "cell_type": "code",
   "execution_count": 78,
   "metadata": {},
   "outputs": [
    {
     "name": "stdout",
     "output_type": "stream",
     "text": [
      "[ 0  5 10 15 20 25 30]\n",
      "elapsed_time_numpy=  0.0080\n"
     ]
    }
   ],
   "source": [
    "scalar = 5\n",
    "vector_size = 1_000_000  # Size of the arrays/lists\n",
    "vector = np.array(list(range(vector_size)))  # convert a list into np.ndarray object\n",
    "\n",
    "start = time.time()\n",
    "output = vector * scalar\n",
    "end = time.time()\n",
    "\n",
    "elapsed_time_numpy = end - start\n",
    "\n",
    "print(output[0:7])\n",
    "print(f'{elapsed_time_numpy= : .4f}')"
   ]
  },
  {
   "cell_type": "code",
   "execution_count": 79,
   "metadata": {},
   "outputs": [
    {
     "data": {
      "image/png": "[encoded data removed]",
      "text/plain": [
       "<Figure size 700x400 with 1 Axes>"
      ]
     },
     "metadata": {},
     "output_type": "display_data"
    }
   ],
   "source": [
    "# plot the results \n",
    "\n",
    "plt.figure(figsize=(7, 4))\n",
    "plt.bar(['list(N=1M)_compr', 'array(N=1M)'], [elapsed_time_list, elapsed_time_numpy])\n",
    "plt.title('Processing time for multiplication')\n",
    "plt.ylabel('time [s]')\n",
    "plt.xlabel('Method')\n",
    "plt.grid(lw=.4)\n",
    "plt.show()"
   ]
  },
  {
   "cell_type": "code",
   "execution_count": 86,
   "metadata": {},
   "outputs": [
    {
     "name": "stdout",
     "output_type": "stream",
     "text": [
      "Numpy was  82.27% faster\n"
     ]
    }
   ],
   "source": [
    "print(f'Numpy was {(1 - elapsed_time_numpy/elapsed_time_list)*100 : .2f}% faster')"
   ]
  },
  {
   "cell_type": "markdown",
   "metadata": {},
   "source": [
    "# `ndarray` object"
   ]
  },
  {
   "cell_type": "markdown",
   "metadata": {},
   "source": [
    "### Scalar"
   ]
  },
  {
   "cell_type": "code",
   "execution_count": 104,
   "metadata": {},
   "outputs": [
    {
     "name": "stdout",
     "output_type": "stream",
     "text": [
      "5\n",
      "int64\n",
      "<class 'numpy.ndarray'> \n",
      "\n",
      "5\n",
      "int32\n",
      "<class 'numpy.int32'> \n",
      "\n",
      "5.0\n",
      "float64\n",
      "<class 'numpy.float64'>\n"
     ]
    }
   ],
   "source": [
    "# create a scalar\n",
    "scalar_obj = np.array(5)\n",
    "\n",
    "# create a scalar of specific data type\n",
    "scalar_int = np.int32(5)  # int32 (max is 2^32)\n",
    "scalar_float = np.float64(5)  # float64 (max is 2^64)\n",
    "\n",
    "print(scalar_obj)\n",
    "print(scalar_obj.dtype)\n",
    "print(type(scalar_obj), \"\\n\")\n",
    "\n",
    "print(scalar_int)\n",
    "print(scalar_int.dtype)\n",
    "print(type(scalar_int), \"\\n\")\n",
    "\n",
    "print(scalar_float)\n",
    "print(scalar_float.dtype)\n",
    "print(type(scalar_float))\n"
   ]
  },
  {
   "cell_type": "code",
   "execution_count": 103,
   "metadata": {},
   "outputs": [
    {
     "name": "stdout",
     "output_type": "stream",
     "text": [
      "Type: uint8\n",
      "Dimensions: 0\n",
      "Shape: ()\n",
      "Size: 1\n"
     ]
    }
   ],
   "source": [
    "# explore scalar\n",
    "scalar = np.array(5, dtype=np.uint8)\n",
    "\n",
    "print(f'Type: {scalar.dtype}')\n",
    "print(f'Dimensions: {scalar.ndim}')\n",
    "print(f'Shape: {scalar.shape}')\n",
    "print(f'Size: {scalar.size}')\n"
   ]
  },
  {
   "cell_type": "code",
   "execution_count": 131,
   "metadata": {},
   "outputs": [
    {
     "name": "stdout",
     "output_type": "stream",
     "text": [
      "*** Operations:\n",
      "Addition 20\n",
      "Substraction 10\n",
      "Multiplication 75\n",
      "Floating-Division 3.0\n",
      "Floor-division 3\n",
      "Exponentiation 759375\n"
     ]
    }
   ],
   "source": [
    "scalar1 = np.array(15)\n",
    "scalar2 = np.array(5)\n",
    "\n",
    "# mathematical operations\n",
    "print('*** Operations:')\n",
    "print(f'Addition {scalar1 + scalar2}')\n",
    "print(f'Substraction {scalar1 - scalar2}')\n",
    "print(f'Multiplication {scalar1 * scalar2}')\n",
    "print(f'Floating-Division {scalar1 / scalar2}')\n",
    "print(f'Floor-division {scalar1 // scalar2}')\n",
    "print(f'Exponentiation {scalar1 ** scalar2}')\n"
   ]
  },
  {
   "cell_type": "markdown",
   "metadata": {},
   "source": [
    "### Vector"
   ]
  },
  {
   "cell_type": "code",
   "execution_count": 106,
   "metadata": {},
   "outputs": [
    {
     "name": "stdout",
     "output_type": "stream",
     "text": [
      "[10  5  4  3]\n",
      "int64\n",
      "<class 'numpy.ndarray'> \n",
      "\n",
      "[10  5  4  3]\n",
      "uint32\n",
      "<class 'numpy.ndarray'> \n",
      "\n",
      "[10.  5.  4.  3.]\n",
      "float64\n",
      "<class 'numpy.ndarray'>\n"
     ]
    }
   ],
   "source": [
    "# create a vector array\n",
    "vector_obj = np.array([10, 5, 4, 3])\n",
    "\n",
    "# create a vector array of specific data type\n",
    "vector_int = np.array([10, 5, 4, 3], np.uint32) # int32 (max is 2^32)\n",
    "vector_float = np.array([10, 5, 4, 3], np.float64)  # float64 (max is 2^64)\n",
    "\n",
    "print(vector_obj)\n",
    "print(vector_obj.dtype)\n",
    "print(type(vector_obj), \"\\n\")\n",
    "\n",
    "print(vector_int)\n",
    "print(vector_int.dtype)\n",
    "print(type(vector_int), \"\\n\")\n",
    "\n",
    "print(vector_float)\n",
    "print(vector_float.dtype)\n",
    "print(type(vector_float))\n"
   ]
  },
  {
   "cell_type": "code",
   "execution_count": 107,
   "metadata": {},
   "outputs": [
    {
     "name": "stdout",
     "output_type": "stream",
     "text": [
      "Type: int64\n",
      "Dimensions: 1\n",
      "Shape: (4,)\n",
      "Size: 4\n"
     ]
    }
   ],
   "source": [
    "# explore vector array\n",
    "vector = np.array([10, 5, 4, 3])\n",
    "\n",
    "print(f'Type: {vector.dtype}')\n",
    "print(f'Dimensions: {vector.ndim}')\n",
    "print(f'Shape: {vector.shape}')\n",
    "print(f'Size: {vector.size}')\n"
   ]
  },
  {
   "cell_type": "code",
   "execution_count": 109,
   "metadata": {},
   "outputs": [
    {
     "name": "stdout",
     "output_type": "stream",
     "text": [
      "[  0  11  22  33  44  55  66  77  88 100]\n"
     ]
    }
   ],
   "source": [
    "# create vector array with START number, STOP number, NUMBER of elements to take, DATA TYPE\n",
    "arr = np.linspace(0, 100, 10, dtype=np.uint8)\n",
    "print(arr)"
   ]
  },
  {
   "cell_type": "code",
   "execution_count": 110,
   "metadata": {},
   "outputs": [
    {
     "name": "stdout",
     "output_type": "stream",
     "text": [
      "[ 0 10 20 30 40 50 60 70 80 90]\n"
     ]
    }
   ],
   "source": [
    "# create vector array with START number, STOP number, STEP to take between elements, DATA TYPE\n",
    "arr = np.arange(0, 100, 10, dtype=np.uint8)\n",
    "print(arr)"
   ]
  },
  {
   "cell_type": "code",
   "execution_count": 135,
   "metadata": {},
   "outputs": [
    {
     "name": "stdout",
     "output_type": "stream",
     "text": [
      "[3 3 4 5 0 0 2 0 0 3]\n"
     ]
    }
   ],
   "source": [
    "# create vector array of datatype INT with random numbers between START number, STOP number, SIZE\n",
    "arr = np.random.randint(0, 8, 10)\n",
    "print(arr)"
   ]
  },
  {
   "cell_type": "code",
   "execution_count": 139,
   "metadata": {},
   "outputs": [
    {
     "name": "stdout",
     "output_type": "stream",
     "text": [
      "[0.47457288 0.25219909 0.46684836 0.19304106 0.16915109 0.8458553\n",
      " 0.25175041 0.8052821 ]\n"
     ]
    }
   ],
   "source": [
    "# create a vector array of datatype FLOAT with random numbers\n",
    "arr = np.random.rand(8)\n",
    "print(arr)"
   ]
  },
  {
   "cell_type": "code",
   "execution_count": 142,
   "metadata": {},
   "outputs": [
    {
     "name": "stdout",
     "output_type": "stream",
     "text": [
      "vector1= array([0, 1, 2, 3, 4, 5, 6, 7, 8, 9], dtype=int16)\n",
      "\n",
      "vector2= array([10, 11, 12, 13, 14, 15, 16, 17, 18, 20], dtype=int32)\n",
      "\n",
      "*** Operations:\n",
      "Addition [10 12 14 16 18 20 22 24 26 29]\n",
      "\n",
      "Substraction [-10 -10 -10 -10 -10 -10 -10 -10 -10 -11]\n",
      "\n",
      "Multiplication [  0  11  24  39  56  75  96 119 144 180]\n",
      "\n",
      "Floating-Division [0.         0.09090909 0.16666667 0.23076923 0.28571429 0.33333333\n",
      " 0.375      0.41176471 0.44444444 0.45      ]\n",
      "\n",
      "Floor-division [0 0 0 0 0 0 0 0 0 0]\n",
      "\n",
      "Exponentiation [          0           1        4096     1594323   268435456   452807053\n",
      "  -683606016 -2094633337           0   689956897]\n",
      "\n"
     ]
    }
   ],
   "source": [
    "vector1 = np.arange(0, 10, 1, dtype=np.int16)\n",
    "vector2 = np.linspace(10, 20, 10, dtype=np.int32)\n",
    "\n",
    "print(f'{vector1= }\\n')\n",
    "print(f'{vector2= }\\n')\n",
    "\n",
    "# mathematical operations\n",
    "print('*** Operations:')\n",
    "print(f'Addition {vector1 + vector2}\\n')\n",
    "print(f'Substraction {vector1 - vector2}\\n')\n",
    "print(f'Multiplication {vector1 * vector2}\\n')\n",
    "print(f'Floating-Division {vector1 / vector2}\\n')\n",
    "print(f'Floor-division {vector1 // vector2}\\n')\n",
    "print(f'Exponentiation {vector1 ** vector2}\\n')\n"
   ]
  }
 ],
 "metadata": {
  "kernelspec": {
   "display_name": "venv",
   "language": "python",
   "name": "python3"
  },
  "language_info": {
   "codemirror_mode": {
    "name": "ipython",
    "version": 3
   },
   "file_extension": ".py",
   "mimetype": "text/x-python",
   "name": "python",
   "nbconvert_exporter": "python",
   "pygments_lexer": "ipython3",
   "version": "3.10.12"
  }
 },
 "nbformat": 4,
 "nbformat_minor": 2
}
