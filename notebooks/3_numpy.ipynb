{
 "cells": [
  {
   "cell_type": "markdown",
   "metadata": {},
   "source": [
    "&copy; Mirko Piani - *PhD student in Precision Orchard Management (POM), university of Bologna (IT)*\n",
    "___\n",
    "\n",
    "If you are having problems with the notebook, contact me at mirko.piani2@unibo.it"
   ]
  },
  {
   "cell_type": "markdown",
   "metadata": {},
   "source": [
    "![numpy-logo](https://numpy.org/devdocs/_static/numpylogo.svg) \n",
    "\n",
    "[Numpy: from Begginners to Advanced tutorials](https://numpy.org/learn/)"
   ]
  },
  {
   "cell_type": "markdown",
   "metadata": {},
   "source": [
    "Learning [NumPy](https://numpy.org/devdocs/user/whatisnumpy.html) in Python is highly beneficial, especially if you are working in fields such as data science, machine learning, scientific computing, or any domain that requires numerical computations. At the core of the *Numpy* package is the `ndarray` object. This encapsulates *n*-dimensional arrays of homogeneous data types, with many operations being performed in compiled code for performance."
   ]
  },
  {
   "cell_type": "markdown",
   "metadata": {},
   "source": [
    "There are several important differences between NumPy arrays and the standard Python sequences:\n",
    "\n",
    "- NumPy arrays have a **fixed size at creation**, unlike Python lists (which can grow dynamically). Changing the size of an `ndarray` will create a new array and **delete the original**.\n",
    "\n",
    "- The elements in a *NumPy* array are all required to be of the **same data type**, and thus will be the same size in memory. \n",
    "\n",
    "- **NumPy arrays facilitate advanced mathematical and other types of operations on large numbers of data**. Typically, such operations are executed more efficiently and with less code than is possible using Python’s built-in sequences.\n",
    "\n",
    "The points about sequence size and speed are particularly important in scientific computing."
   ]
  },
  {
   "cell_type": "code",
   "execution_count": 1,
   "metadata": {},
   "outputs": [],
   "source": [
    "import time\n",
    "import numpy as np\n",
    "import matplotlib.pyplot as plt"
   ]
  },
  {
   "cell_type": "markdown",
   "metadata": {},
   "source": [
    "## Speed test"
   ]
  },
  {
   "cell_type": "markdown",
   "metadata": {},
   "source": [
    "> **Example**: consider the case of multiplying each element in a 1-D sequence (= vector) with the corresponding element in another sequence of the same length. \n",
    "\n",
    "If the data are stored in two Python **lists**, `a` and `b`, we could iterate over each element:"
   ]
  },
  {
   "cell_type": "code",
   "execution_count": 32,
   "metadata": {},
   "outputs": [
    {
     "name": "stdout",
     "output_type": "stream",
     "text": [
      "[20, 20, 90, 160, 200, 180]\n",
      "elapsed_time_list=  0.0074 s\n"
     ]
    }
   ],
   "source": [
    "a = [10, 20, 30, 40, 50 , 60]  # list\n",
    "b = [2, 1, 3, 4, 4 , 3]  # list\n",
    "\n",
    "start = time.time()\n",
    "c = []\n",
    "for i in range(len(a)):\n",
    "    c.append(a[i]*b[i])\n",
    "\n",
    "end = time.time()\n",
    "elapsed_time_list = end - start\n",
    "\n",
    "print(c)\n",
    "print(f'{elapsed_time_list= : .4f} s')"
   ]
  },
  {
   "cell_type": "markdown",
   "metadata": {},
   "source": [
    "This produces the correct answer, but if `a` and `b` each contain **millions of numbers**, we will pay the price for the inefficiencies of looping in Python."
   ]
  },
  {
   "cell_type": "markdown",
   "metadata": {},
   "source": [
    "*NumPy* gives us the best: **element-by-element operations** are the “default mode” when an `ndarray` is involved, and the element-by-element operation is **speedily executed by pre-compiled C code**."
   ]
  },
  {
   "cell_type": "markdown",
   "metadata": {},
   "source": [
    "### `for` loop"
   ]
  },
  {
   "cell_type": "code",
   "execution_count": 41,
   "metadata": {},
   "outputs": [
    {
     "name": "stdout",
     "output_type": "stream",
     "text": [
      "elapsed_time_list_for =  0.1053 s\n"
     ]
    }
   ],
   "source": [
    "size = 1_000_000  # Size of the arrays/lists\n",
    "\n",
    "a = list(range(size))\n",
    "b = list(range(size, 2*size))\n",
    "\n",
    "start = time.time()\n",
    "c = []\n",
    "for i in range(len(a)):\n",
    "    c.append(a[i]*b[i])\n",
    "\n",
    "end = time.time()\n",
    "elapsed_time_list_for = end - start\n",
    "\n",
    "# print(c)\n",
    "print(f'{elapsed_time_list_for = : .4f} s')\n"
   ]
  },
  {
   "cell_type": "markdown",
   "metadata": {},
   "source": [
    "### list comprehension"
   ]
  },
  {
   "cell_type": "code",
   "execution_count": 51,
   "metadata": {},
   "outputs": [
    {
     "name": "stdout",
     "output_type": "stream",
     "text": [
      "elapsed_time_list_compr=  0.0682 s\n"
     ]
    }
   ],
   "source": [
    "size = 1_000_000  # Size of the arrays/lists\n",
    "\n",
    "a = list(range(size))\n",
    "b = list(range(size, 2*size))\n",
    "\n",
    "start = time.time()\n",
    "# avoiding loop inefficiency with LIST COMPREHENSION\n",
    "c = [a[i] * b[i] for i in range(size)]\n",
    "\n",
    "end = time.time()\n",
    "elapsed_time_list_compr = end - start\n",
    "\n",
    "# print(c)\n",
    "print(f'{elapsed_time_list_compr= : .4f} s')\n"
   ]
  },
  {
   "cell_type": "markdown",
   "metadata": {},
   "source": [
    "### Numpy"
   ]
  },
  {
   "cell_type": "code",
   "execution_count": 71,
   "metadata": {},
   "outputs": [
    {
     "name": "stdout",
     "output_type": "stream",
     "text": [
      "elapsed_time_numpy=  0.0095\n"
     ]
    }
   ],
   "source": [
    "size = 1_000_000  # Size of the arrays/lists\n",
    "a = list(range(size))\n",
    "b = list(range(size, 2*size))\n",
    "\n",
    "# generate two vectors\n",
    "a = np.array(a)\n",
    "b = np.array(b)\n",
    "\n",
    "start = time.time()\n",
    "# element-wise operation\n",
    "c = a * b\n",
    "\n",
    "end = time.time()\n",
    "elapsed_time_numpy = end - start\n",
    "\n",
    "print(f'{elapsed_time_numpy= : .4f}')"
   ]
  },
  {
   "cell_type": "code",
   "execution_count": 69,
   "metadata": {},
   "outputs": [
    {
     "data": {
      "image/png": "[encoded data removed]",
      "text/plain": [
       "<Figure size 700x400 with 1 Axes>"
      ]
     },
     "metadata": {},
     "output_type": "display_data"
    }
   ],
   "source": [
    "# plot the results \n",
    "\n",
    "plt.figure(figsize=(7, 4))\n",
    "plt.bar(['list(N=6)', 'list(N=1M)_for', 'list(N=1M)_compr', 'array(N=1M)'], [elapsed_time_list, elapsed_time_list_for, elapsed_time_list_compr, elapsed_time_numpy])\n",
    "plt.title('Processing time')\n",
    "plt.ylabel('time [s]')\n",
    "plt.xlabel('Method')\n",
    "plt.grid(lw=.4)\n",
    "plt.show()"
   ]
  },
  {
   "cell_type": "markdown",
   "metadata": {},
   "source": [
    "Numpy demonstrated to be the faster in doing the *element-wise operation*"
   ]
  },
  {
   "cell_type": "markdown",
   "metadata": {},
   "source": [
    "## different shapes"
   ]
  },
  {
   "cell_type": "markdown",
   "metadata": {},
   "source": [
    "![shapes](https://hadrienj.github.io/assets/images/2.1/scalar-vector-matrix-tensor.png)"
   ]
  },
  {
   "cell_type": "markdown",
   "metadata": {},
   "source": [
    "***Scalar***\n",
    ":  is a single numerical value. It is a 0-dimensional quantity \n",
    "+ Scalars are represented by a single number\n",
    "+ They do not have any direction, only magnitude)\n",
    "\n",
    "***Vector***\n",
    ":  is an ordered list of numbers. It is a 1-dimensional array of scalars \n",
    "+ Vectors have both magnitude and direction \n",
    "+ They are often used to represent physical quantities like velocity, force, and displacement.\n",
    "+ In mathematics, a vector of length nn is called an *n*-dimensional vector.\n",
    "\n",
    "***Matrix***\n",
    ": is a 2-dimensional array of numbers, organized in *rows* and *columns* (i.e., grayscale images).\n",
    "+ Matrices can represent linear transformations, systems of linear equations, and data tables.\n",
    "+ A matrix with mm rows and nn columns is called an m×nm×n matrix.\n",
    "+ Special types of matrices include square matrices, diagonal matrices, identity matrices, and zero matrices.\n",
    "\n",
    "***Tensor***\n",
    ": is a multi-dimensional array of numbers (i.e., RGB images). \n",
    "+ Tensors are used in various fields including physics (to describe stress, strain, and elasticity), computer graphics, and machine learning (where they are used to represent data and operations in neural networks).\n",
    "+ The number of dimensions of a tensor is called its rank. For example, a rank-3 tensor has three dimensions.\n",
    "\n",
    "<center>\n",
    "\n",
    "| Concept | Dimension | Example                       |\n",
    "|---------|-----------|-------------------------------|\n",
    "| Scalar  | 0         | 55                            |\n",
    "| Vector  | 1         | [1, 2, 3]                     |\n",
    "| Matrix  | 2         | [[1, 2], [3, 4]]              |\n",
    "| Tensor  | 3+        | [[[1, 2], [3, 4]], [[5, 6], [7, 8]]] |\n",
    "\n",
    "</center>\n",
    "\n"
   ]
  },
  {
   "cell_type": "markdown",
   "metadata": {},
   "source": [
    "> Example: consider you want to multiply a *1*-dimensional vector with a Scalar."
   ]
  },
  {
   "cell_type": "markdown",
   "metadata": {},
   "source": [
    "### using lists"
   ]
  },
  {
   "cell_type": "code",
   "execution_count": 77,
   "metadata": {},
   "outputs": [
    {
     "name": "stdout",
     "output_type": "stream",
     "text": [
      "[0, 5, 10, 15, 20, 25, 30]\n",
      "elapsed_time_list=  0.0452\n"
     ]
    }
   ],
   "source": [
    "scalar = 5\n",
    "vector_size = 1_000_000  # Size of the arrays/lists\n",
    "vector = list(range(vector_size))  # list\n",
    "\n",
    "start = time.time()\n",
    "output = [value * scalar for value in vector]\n",
    "end = time.time()\n",
    "\n",
    "elapsed_time_list = end - start\n",
    "\n",
    "\n",
    "print(output[0:7])\n",
    "print(f'{elapsed_time_list= : .4f}')"
   ]
  },
  {
   "cell_type": "markdown",
   "metadata": {},
   "source": [
    "### using numpy"
   ]
  },
  {
   "cell_type": "code",
   "execution_count": 78,
   "metadata": {},
   "outputs": [
    {
     "name": "stdout",
     "output_type": "stream",
     "text": [
      "[ 0  5 10 15 20 25 30]\n",
      "elapsed_time_numpy=  0.0080\n"
     ]
    }
   ],
   "source": [
    "scalar = 5\n",
    "vector_size = 1_000_000  # Size of the arrays/lists\n",
    "vector = np.array(list(range(vector_size)))  # convert a list into np.ndarray object\n",
    "\n",
    "start = time.time()\n",
    "output = vector * scalar\n",
    "end = time.time()\n",
    "\n",
    "elapsed_time_numpy = end - start\n",
    "\n",
    "print(output[0:7])\n",
    "print(f'{elapsed_time_numpy= : .4f}')"
   ]
  },
  {
   "cell_type": "code",
   "execution_count": 79,
   "metadata": {},
   "outputs": [
    {
     "data": {
      "image/png": "[encoded data removed]",
      "text/plain": [
       "<Figure size 700x400 with 1 Axes>"
      ]
     },
     "metadata": {},
     "output_type": "display_data"
    }
   ],
   "source": [
    "# plot the results \n",
    "\n",
    "plt.figure(figsize=(7, 4))\n",
    "plt.bar(['list(N=1M)_compr', 'array(N=1M)'], [elapsed_time_list, elapsed_time_numpy])\n",
    "plt.title('Processing time for multiplication')\n",
    "plt.ylabel('time [s]')\n",
    "plt.xlabel('Method')\n",
    "plt.grid(lw=.4)\n",
    "plt.show()"
   ]
  },
  {
   "cell_type": "code",
   "execution_count": 86,
   "metadata": {},
   "outputs": [
    {
     "name": "stdout",
     "output_type": "stream",
     "text": [
      "Numpy was  82.27% faster\n"
     ]
    }
   ],
   "source": [
    "print(f'Numpy was {(1 - elapsed_time_numpy/elapsed_time_list)*100 : .2f}% faster')"
   ]
  },
  {
   "cell_type": "markdown",
   "metadata": {},
   "source": [
    "# `ndarray` object"
   ]
  },
  {
   "cell_type": "markdown",
   "metadata": {},
   "source": [
    "### Scalar"
   ]
  },
  {
   "cell_type": "code",
   "execution_count": 104,
   "metadata": {},
   "outputs": [
    {
     "name": "stdout",
     "output_type": "stream",
     "text": [
      "5\n",
      "int64\n",
      "<class 'numpy.ndarray'> \n",
      "\n",
      "5\n",
      "int32\n",
      "<class 'numpy.int32'> \n",
      "\n",
      "5.0\n",
      "float64\n",
      "<class 'numpy.float64'>\n"
     ]
    }
   ],
   "source": [
    "# create a scalar\n",
    "scalar_obj = np.array(5)\n",
    "\n",
    "# create a scalar of specific data type\n",
    "scalar_int = np.int32(5)  # int32 (max is 2^32)\n",
    "scalar_float = np.float64(5)  # float64 (max is 2^64)\n",
    "\n",
    "print(scalar_obj)\n",
    "print(scalar_obj.dtype)\n",
    "print(type(scalar_obj), \"\\n\")\n",
    "\n",
    "print(scalar_int)\n",
    "print(scalar_int.dtype)\n",
    "print(type(scalar_int), \"\\n\")\n",
    "\n",
    "print(scalar_float)\n",
    "print(scalar_float.dtype)\n",
    "print(type(scalar_float))\n"
   ]
  },
  {
   "cell_type": "code",
   "execution_count": 25,
   "metadata": {},
   "outputs": [
    {
     "name": "stdout",
     "output_type": "stream",
     "text": [
      "Type: uint8\n",
      "Dimensions: 0\n",
      "Shape: ()\n",
      "Size: 1\n",
      "Memory usage (B): 1\n"
     ]
    }
   ],
   "source": [
    "# explore scalar\n",
    "scalar = np.array(5, dtype=np.uint8)\n",
    "\n",
    "print(f'Type: {scalar.dtype}')\n",
    "print(f'Dimensions: {scalar.ndim}')\n",
    "print(f'Shape: {scalar.shape}')\n",
    "print(f'Size: {scalar.size}')\n",
    "print(f'Memory usage (B): {scalar.nbytes}')\n"
   ]
  },
  {
   "cell_type": "code",
   "execution_count": 131,
   "metadata": {},
   "outputs": [
    {
     "name": "stdout",
     "output_type": "stream",
     "text": [
      "*** Operations:\n",
      "Addition 20\n",
      "Substraction 10\n",
      "Multiplication 75\n",
      "Floating-Division 3.0\n",
      "Floor-division 3\n",
      "Exponentiation 759375\n"
     ]
    }
   ],
   "source": [
    "scalar1 = np.array(15)\n",
    "scalar2 = np.array(5)\n",
    "\n",
    "# mathematical operations\n",
    "print('*** Operations:')\n",
    "print(f'Addition {scalar1 + scalar2}')\n",
    "print(f'Substraction {scalar1 - scalar2}')\n",
    "print(f'Multiplication {scalar1 * scalar2}')\n",
    "print(f'Floating-Division {scalar1 / scalar2}')\n",
    "print(f'Floor-division {scalar1 // scalar2}')\n",
    "print(f'Exponentiation {scalar1 ** scalar2}')\n"
   ]
  },
  {
   "cell_type": "markdown",
   "metadata": {},
   "source": [
    "### Vector"
   ]
  },
  {
   "cell_type": "code",
   "execution_count": 106,
   "metadata": {},
   "outputs": [
    {
     "name": "stdout",
     "output_type": "stream",
     "text": [
      "[10  5  4  3]\n",
      "int64\n",
      "<class 'numpy.ndarray'> \n",
      "\n",
      "[10  5  4  3]\n",
      "uint32\n",
      "<class 'numpy.ndarray'> \n",
      "\n",
      "[10.  5.  4.  3.]\n",
      "float64\n",
      "<class 'numpy.ndarray'>\n"
     ]
    }
   ],
   "source": [
    "# create a vector array\n",
    "vector_obj = np.array([10, 5, 4, 3])\n",
    "\n",
    "# create a vector array of specific data type\n",
    "vector_int = np.array([10, 5, 4, 3], np.uint32) # int32 (max is 2^32)\n",
    "vector_float = np.array([10, 5, 4, 3], np.float64)  # float64 (max is 2^64)\n",
    "\n",
    "print(vector_obj)\n",
    "print(vector_obj.dtype)\n",
    "print(type(vector_obj), \"\\n\")\n",
    "\n",
    "print(vector_int)\n",
    "print(vector_int.dtype)\n",
    "print(type(vector_int), \"\\n\")\n",
    "\n",
    "print(vector_float)\n",
    "print(vector_float.dtype)\n",
    "print(type(vector_float))\n"
   ]
  },
  {
   "cell_type": "code",
   "execution_count": 28,
   "metadata": {},
   "outputs": [
    {
     "name": "stdout",
     "output_type": "stream",
     "text": [
      "Type: int16\n",
      "Dimensions: 1\n",
      "Shape: (4,)\n",
      "Size: 4\n",
      "Memory usage (B): 8\n"
     ]
    }
   ],
   "source": [
    "# explore vector array\n",
    "vector = np.array([10, 5, 4, 3], dtype='int16')\n",
    "\n",
    "print(f'Type: {vector.dtype}')\n",
    "print(f'Dimensions: {vector.ndim}')\n",
    "print(f'Shape: {vector.shape}')\n",
    "print(f'Size: {vector.size}')\n",
    "print(f'Memory usage (B): {vector.nbytes}')\n"
   ]
  },
  {
   "cell_type": "code",
   "execution_count": 109,
   "metadata": {},
   "outputs": [
    {
     "name": "stdout",
     "output_type": "stream",
     "text": [
      "[  0  11  22  33  44  55  66  77  88 100]\n"
     ]
    }
   ],
   "source": [
    "# create vector array with START number, STOP number, NUMBER of elements to take, DATA TYPE\n",
    "arr = np.linspace(0, 100, 10, dtype=np.uint8)\n",
    "print(arr)"
   ]
  },
  {
   "cell_type": "code",
   "execution_count": 110,
   "metadata": {},
   "outputs": [
    {
     "name": "stdout",
     "output_type": "stream",
     "text": [
      "[ 0 10 20 30 40 50 60 70 80 90]\n"
     ]
    }
   ],
   "source": [
    "# create vector array with START number, STOP number, STEP to take between elements, DATA TYPE\n",
    "arr = np.arange(0, 100, 10, dtype=np.uint8)\n",
    "print(arr)"
   ]
  },
  {
   "cell_type": "code",
   "execution_count": 135,
   "metadata": {},
   "outputs": [
    {
     "name": "stdout",
     "output_type": "stream",
     "text": [
      "[3 3 4 5 0 0 2 0 0 3]\n"
     ]
    }
   ],
   "source": [
    "# create vector array of datatype INT with random numbers between START number, STOP number, SIZE\n",
    "arr = np.random.randint(0, 8, 10)\n",
    "print(arr)"
   ]
  },
  {
   "cell_type": "code",
   "execution_count": 139,
   "metadata": {},
   "outputs": [
    {
     "name": "stdout",
     "output_type": "stream",
     "text": [
      "[0.47457288 0.25219909 0.46684836 0.19304106 0.16915109 0.8458553\n",
      " 0.25175041 0.8052821 ]\n"
     ]
    }
   ],
   "source": [
    "# create a vector array of datatype FLOAT with random numbers\n",
    "arr = np.random.rand(8)\n",
    "print(arr)"
   ]
  },
  {
   "cell_type": "code",
   "execution_count": 142,
   "metadata": {},
   "outputs": [
    {
     "name": "stdout",
     "output_type": "stream",
     "text": [
      "vector1= array([0, 1, 2, 3, 4, 5, 6, 7, 8, 9], dtype=int16)\n",
      "\n",
      "vector2= array([10, 11, 12, 13, 14, 15, 16, 17, 18, 20], dtype=int32)\n",
      "\n",
      "*** Operations:\n",
      "Addition [10 12 14 16 18 20 22 24 26 29]\n",
      "\n",
      "Substraction [-10 -10 -10 -10 -10 -10 -10 -10 -10 -11]\n",
      "\n",
      "Multiplication [  0  11  24  39  56  75  96 119 144 180]\n",
      "\n",
      "Floating-Division [0.         0.09090909 0.16666667 0.23076923 0.28571429 0.33333333\n",
      " 0.375      0.41176471 0.44444444 0.45      ]\n",
      "\n",
      "Floor-division [0 0 0 0 0 0 0 0 0 0]\n",
      "\n",
      "Exponentiation [          0           1        4096     1594323   268435456   452807053\n",
      "  -683606016 -2094633337           0   689956897]\n",
      "\n"
     ]
    }
   ],
   "source": [
    "vector1 = np.arange(0, 10, 1, dtype=np.int16)\n",
    "vector2 = np.linspace(10, 20, 10, dtype=np.int32)\n",
    "\n",
    "print(f'{vector1= }\\n')\n",
    "print(f'{vector2= }\\n')\n",
    "\n",
    "# mathematical operations\n",
    "print('*** Operations:')\n",
    "print(f'Addition {vector1 + vector2}\\n')\n",
    "print(f'Substraction {vector1 - vector2}\\n')\n",
    "print(f'Multiplication {vector1 * vector2}\\n')\n",
    "print(f'Floating-Division {vector1 / vector2}\\n')\n",
    "print(f'Floor-division {vector1 // vector2}\\n')\n",
    "print(f'Exponentiation {vector1 ** vector2}\\n')"
   ]
  },
  {
   "cell_type": "markdown",
   "metadata": {},
   "source": [
    "### Matrix"
   ]
  },
  {
   "cell_type": "code",
   "execution_count": 29,
   "metadata": {},
   "outputs": [
    {
     "name": "stdout",
     "output_type": "stream",
     "text": [
      "[[10.  5.  4.]\n",
      " [ 1.  2.  4.]\n",
      " [ 5.  1.  3.]]\n",
      "float32\n",
      "<class 'numpy.ndarray'> \n",
      "\n"
     ]
    }
   ],
   "source": [
    "# create a 3x3 matrix array\n",
    "matrix_obj = np.array([[10, 5, 4], [1, 2, 4], [5, 1, 3]], dtype='float32')\n",
    "\n",
    "\n",
    "print(matrix_obj)\n",
    "print(matrix_obj.dtype)\n",
    "print(type(matrix_obj), \"\\n\")"
   ]
  },
  {
   "cell_type": "code",
   "execution_count": 30,
   "metadata": {},
   "outputs": [
    {
     "name": "stdout",
     "output_type": "stream",
     "text": [
      "Type: float32\n",
      "Dimensions: 2\n",
      "Shape: (3, 3)\n",
      "Size: 9\n",
      "Memory usage (B): 36\n"
     ]
    }
   ],
   "source": [
    "# explore the matrix\n",
    "print(f'Type: {matrix_obj.dtype}')\n",
    "print(f'Dimensions: {matrix_obj.ndim}')\n",
    "print(f'Shape: {matrix_obj.shape}')\n",
    "print(f'Size: {matrix_obj.size}')\n",
    "print(f'Memory usage (B): {matrix_obj.nbytes}')\n"
   ]
  },
  {
   "cell_type": "code",
   "execution_count": 31,
   "metadata": {},
   "outputs": [
    {
     "name": "stdout",
     "output_type": "stream",
     "text": [
      "[[0 0 0 0]\n",
      " [0 0 0 0]\n",
      " [0 0 0 0]]\n"
     ]
    }
   ],
   "source": [
    "# create a 3 rows by 4 columns matrix of dtype int16 initialized with zeros\n",
    "matrix_zeros = np.full((3, 4), fill_value=0, dtype='int16')\n",
    "print(matrix_zeros)"
   ]
  },
  {
   "cell_type": "code",
   "execution_count": 32,
   "metadata": {},
   "outputs": [
    {
     "name": "stdout",
     "output_type": "stream",
     "text": [
      "[[1. 1. 1. 1.]\n",
      " [1. 1. 1. 1.]\n",
      " [1. 1. 1. 1.]]\n"
     ]
    }
   ],
   "source": [
    "# create a matrix with same shape as 'matrix_zeros' (3 by 4) of dtype float32\n",
    "matrix_zeros = np.full_like(matrix_zeros, fill_value=1, dtype='float32')\n",
    "print(matrix_zeros)"
   ]
  },
  {
   "cell_type": "code",
   "execution_count": 33,
   "metadata": {},
   "outputs": [
    {
     "name": "stdout",
     "output_type": "stream",
     "text": [
      "[[1 1 1 1]\n",
      " [1 1 1 1]\n",
      " [1 1 1 1]]\n"
     ]
    }
   ],
   "source": [
    "# create a matrix with same shape as 'matrix_zeros' (3 by 4) of dtype int8 and filled with zeros\n",
    "matrix_unos = np.ones_like(matrix_zeros, dtype='int8')\n",
    "print(matrix_unos)"
   ]
  },
  {
   "cell_type": "code",
   "execution_count": 34,
   "metadata": {},
   "outputs": [
    {
     "name": "stdout",
     "output_type": "stream",
     "text": [
      "[[0 0 0 0]\n",
      " [0 0 0 0]\n",
      " [0 0 0 0]]\n"
     ]
    }
   ],
   "source": [
    "# create a matrix with same shape as 'matrix_zeros' (3 by 4) of dtype int8 and filled with zeros\n",
    "matrix_zeros = np.zeros_like(matrix_zeros, dtype='int8')\n",
    "print(matrix_zeros)"
   ]
  },
  {
   "cell_type": "markdown",
   "metadata": {},
   "source": [
    "it is important to notice that changing the `dtype`, also the memory required to store the data changes:"
   ]
  },
  {
   "cell_type": "code",
   "execution_count": 42,
   "metadata": {},
   "outputs": [
    {
     "name": "stdout",
     "output_type": "stream",
     "text": [
      "Memory usage Int8 (B): 1\n",
      "Memory usage Int16 (B): 2\n",
      "Memory usage Int32 (B): 4\n",
      "Memory usage float32 (B): 4\n",
      "Memory usage float64 (B): 8\n"
     ]
    }
   ],
   "source": [
    "# same shape, same value but different dtype\n",
    "matrix_int8 = np.ones((1,1), dtype='int8')\n",
    "matrix_int16 = np.ones((1,1), dtype='int16')\n",
    "matrix_int32 = np.ones((1,1), dtype='int32')\n",
    "matrix_float32 = np.ones((1,1), dtype='float32')\n",
    "matrix_float64 = np.ones((1,1), dtype='float64')\n",
    "\n",
    "print(f'Memory usage Int8 (B): {matrix_int8.nbytes}')\n",
    "print(f'Memory usage Int16 (B): {matrix_int16.nbytes}')\n",
    "print(f'Memory usage Int32 (B): {matrix_int32.nbytes}')\n",
    "print(f'Memory usage float32 (B): {matrix_float32.nbytes}')\n",
    "print(f'Memory usage float64 (B): {matrix_float64.nbytes}')"
   ]
  },
  {
   "cell_type": "code",
   "execution_count": 48,
   "metadata": {},
   "outputs": [
    {
     "name": "stdout",
     "output_type": "stream",
     "text": [
      "[[0.41965157 0.51911041 0.22652178 0.73282051]\n",
      " [0.58273954 0.14399408 0.35689183 0.84646164]\n",
      " [0.90439315 0.97765658 0.31492305 0.66224108]\n",
      " [0.81341203 0.35995543 0.06426745 0.90731156]]\n"
     ]
    }
   ],
   "source": [
    "# create a matrix  of datatype FLOAT with random numbers\n",
    "mat = np.random.rand(4, 4)\n",
    "print(mat)"
   ]
  },
  {
   "cell_type": "code",
   "execution_count": 57,
   "metadata": {},
   "outputs": [
    {
     "name": "stdout",
     "output_type": "stream",
     "text": [
      "mat1= array([[1, 2, 3],\n",
      "       [3, 4, 5],\n",
      "       [5, 5, 6]], dtype=int16)\n",
      "\n",
      "mat2= array([[10, 10, 10],\n",
      "       [10, 10, 10],\n",
      "       [10, 10, 10]])\n",
      "\n",
      "*** Operations:\n",
      "Addition [[11 12 13]\n",
      " [13 14 15]\n",
      " [15 15 16]]\n",
      "\n",
      "Substraction [[-9 -8 -7]\n",
      " [-7 -6 -5]\n",
      " [-5 -5 -4]]\n",
      "\n",
      "Multiplication [[10 20 30]\n",
      " [30 40 50]\n",
      " [50 50 60]]\n",
      "\n",
      "Floating-Division [[0.1 0.2 0.3]\n",
      " [0.3 0.4 0.5]\n",
      " [0.5 0.5 0.6]]\n",
      "\n",
      "Floor-division [[0 0 0]\n",
      " [0 0 0]\n",
      " [0 0 0]]\n",
      "\n",
      "Exponentiation [[       1     1024    59049]\n",
      " [   59049  1048576  9765625]\n",
      " [ 9765625  9765625 60466176]]\n",
      "\n"
     ]
    }
   ],
   "source": [
    "# 3x3 matrix\n",
    "mat1 = np.array([\n",
    "        [1, 2, 3],\n",
    "        [3, 4, 5],\n",
    "        [5, 5, 6]\n",
    "    ],\n",
    "    dtype=np.int16)\n",
    "\n",
    "# 3x3 matrix\n",
    "mat2 = np.full((3, 3), fill_value=10)\n",
    "\n",
    "print(f'{mat1= }\\n')\n",
    "print(f'{mat2= }\\n')\n",
    "\n",
    "# mathematical operations\n",
    "print('*** Operations:')\n",
    "print(f'Addition {mat1 + mat2}\\n')\n",
    "print(f'Substraction {mat1 - mat2}\\n')\n",
    "print(f'Multiplication {mat1 * mat2}\\n')\n",
    "print(f'Floating-Division {mat1 / mat2}\\n')\n",
    "print(f'Floor-division {mat1 // mat2}\\n')\n",
    "print(f'Exponentiation {mat1 ** mat2}\\n')\n"
   ]
  },
  {
   "cell_type": "markdown",
   "metadata": {},
   "source": [
    "### Tensor"
   ]
  },
  {
   "cell_type": "code",
   "execution_count": 60,
   "metadata": {},
   "outputs": [
    {
     "name": "stdout",
     "output_type": "stream",
     "text": [
      "[[[1. 1. 1. 1.]\n",
      "  [1. 1. 1. 1.]\n",
      "  [1. 1. 1. 1.]]\n",
      "\n",
      " [[1. 1. 1. 1.]\n",
      "  [1. 1. 1. 1.]\n",
      "  [1. 1. 1. 1.]]\n",
      "\n",
      " [[1. 1. 1. 1.]\n",
      "  [1. 1. 1. 1.]\n",
      "  [1. 1. 1. 1.]]]\n",
      "float32\n",
      "<class 'numpy.ndarray'> \n",
      "\n"
     ]
    }
   ],
   "source": [
    "# create a 3 rows by 3 columns by 4 channels tensor array\n",
    "tens_obj = np.ones((3,3,4), dtype='float32')\n",
    "\n",
    "\n",
    "print(tens_obj)\n",
    "print(tens_obj.dtype)\n",
    "print(type(tens_obj), \"\\n\")"
   ]
  },
  {
   "cell_type": "code",
   "execution_count": 61,
   "metadata": {},
   "outputs": [
    {
     "name": "stdout",
     "output_type": "stream",
     "text": [
      "Type: float32\n",
      "Dimensions: 3\n",
      "Shape: (3, 3, 4)\n",
      "Size: 36\n",
      "Memory usage (B): 144\n"
     ]
    }
   ],
   "source": [
    "# explore the matrix\n",
    "print(f'Type: {tens_obj.dtype}')\n",
    "print(f'Dimensions: {tens_obj.ndim}')\n",
    "print(f'Shape: {tens_obj.shape}')\n",
    "print(f'Size: {tens_obj.size}')\n",
    "print(f'Memory usage (B): {matrix_obj.nbytes}')\n"
   ]
  },
  {
   "cell_type": "code",
   "execution_count": 62,
   "metadata": {},
   "outputs": [
    {
     "name": "stdout",
     "output_type": "stream",
     "text": [
      "[[[0 0 0 0 0]\n",
      "  [0 0 0 0 0]\n",
      "  [0 0 0 0 0]\n",
      "  [0 0 0 0 0]]\n",
      "\n",
      " [[0 0 0 0 0]\n",
      "  [0 0 0 0 0]\n",
      "  [0 0 0 0 0]\n",
      "  [0 0 0 0 0]]\n",
      "\n",
      " [[0 0 0 0 0]\n",
      "  [0 0 0 0 0]\n",
      "  [0 0 0 0 0]\n",
      "  [0 0 0 0 0]]]\n"
     ]
    }
   ],
   "source": [
    "# create a 3 rows by 4 columns by 5 channels tensor of dtype int16 initialized with zeros\n",
    "tens_zeros = np.full((3, 4, 5), fill_value=0, dtype='int16')\n",
    "print(tens_zeros)"
   ]
  },
  {
   "cell_type": "code",
   "execution_count": 64,
   "metadata": {},
   "outputs": [
    {
     "name": "stdout",
     "output_type": "stream",
     "text": [
      "[[[1. 1. 1. 1. 1.]\n",
      "  [1. 1. 1. 1. 1.]\n",
      "  [1. 1. 1. 1. 1.]\n",
      "  [1. 1. 1. 1. 1.]]\n",
      "\n",
      " [[1. 1. 1. 1. 1.]\n",
      "  [1. 1. 1. 1. 1.]\n",
      "  [1. 1. 1. 1. 1.]\n",
      "  [1. 1. 1. 1. 1.]]\n",
      "\n",
      " [[1. 1. 1. 1. 1.]\n",
      "  [1. 1. 1. 1. 1.]\n",
      "  [1. 1. 1. 1. 1.]\n",
      "  [1. 1. 1. 1. 1.]]]\n"
     ]
    }
   ],
   "source": [
    "# create a tensor with same shape as 'tens_zeros' (3, 4, 5) of dtype float32\n",
    "tens_zeros = np.full_like(tens_zeros, fill_value=1, dtype='float32')\n",
    "print(tens_zeros)"
   ]
  },
  {
   "cell_type": "code",
   "execution_count": 65,
   "metadata": {},
   "outputs": [
    {
     "name": "stdout",
     "output_type": "stream",
     "text": [
      "[[[1 1 1 1 1]\n",
      "  [1 1 1 1 1]\n",
      "  [1 1 1 1 1]\n",
      "  [1 1 1 1 1]]\n",
      "\n",
      " [[1 1 1 1 1]\n",
      "  [1 1 1 1 1]\n",
      "  [1 1 1 1 1]\n",
      "  [1 1 1 1 1]]\n",
      "\n",
      " [[1 1 1 1 1]\n",
      "  [1 1 1 1 1]\n",
      "  [1 1 1 1 1]\n",
      "  [1 1 1 1 1]]]\n"
     ]
    }
   ],
   "source": [
    "# create a tensor with same shape as 'tens_zeros' (3, 4, 5) of dtype int8 and filled with zeros\n",
    "tens_unos = np.ones_like(tens_zeros, dtype='int8')\n",
    "print(tens_unos)"
   ]
  },
  {
   "cell_type": "code",
   "execution_count": 66,
   "metadata": {},
   "outputs": [
    {
     "name": "stdout",
     "output_type": "stream",
     "text": [
      "[[[0 0 0 0 0]\n",
      "  [0 0 0 0 0]\n",
      "  [0 0 0 0 0]\n",
      "  [0 0 0 0 0]]\n",
      "\n",
      " [[0 0 0 0 0]\n",
      "  [0 0 0 0 0]\n",
      "  [0 0 0 0 0]\n",
      "  [0 0 0 0 0]]\n",
      "\n",
      " [[0 0 0 0 0]\n",
      "  [0 0 0 0 0]\n",
      "  [0 0 0 0 0]\n",
      "  [0 0 0 0 0]]]\n"
     ]
    }
   ],
   "source": [
    "# create a tensor with same shape as 'tens_zeros' (3, 4, 5) of dtype int8 and filled with zeros\n",
    "tens_zeros = np.zeros_like(tens_zeros, dtype='int8')\n",
    "print(tens_zeros)"
   ]
  },
  {
   "cell_type": "markdown",
   "metadata": {},
   "source": [
    "it is important to notice that changing the `dtype`, also the memory required to store the data changes:"
   ]
  },
  {
   "cell_type": "code",
   "execution_count": 67,
   "metadata": {},
   "outputs": [
    {
     "name": "stdout",
     "output_type": "stream",
     "text": [
      "Memory usage Int8 (B): 1\n",
      "Memory usage Int16 (B): 2\n",
      "Memory usage Int32 (B): 4\n",
      "Memory usage float32 (B): 4\n",
      "Memory usage float64 (B): 8\n"
     ]
    }
   ],
   "source": [
    "# same shape, same value but different dtype\n",
    "tens_int8 = np.ones((1, 1, 1), dtype='int8')\n",
    "tens_int16 = np.ones((1, 1, 1), dtype='int16')\n",
    "tens_int32 = np.ones((1, 1, 1), dtype='int32')\n",
    "tens_float32 = np.ones((1, 1, 1), dtype='float32')\n",
    "tens_float64 = np.ones((1, 1, 1), dtype='float64')\n",
    "\n",
    "print(f'Memory usage Int8 (B): {tens_int8.nbytes}')\n",
    "print(f'Memory usage Int16 (B): {tens_int16.nbytes}')\n",
    "print(f'Memory usage Int32 (B): {tens_int32.nbytes}')\n",
    "print(f'Memory usage float32 (B): {tens_float32.nbytes}')\n",
    "print(f'Memory usage float64 (B): {matrix_float64.nbytes}')"
   ]
  },
  {
   "cell_type": "code",
   "execution_count": 72,
   "metadata": {},
   "outputs": [
    {
     "name": "stdout",
     "output_type": "stream",
     "text": [
      "[[[0.7858329  0.75702196 0.21971808]\n",
      "  [0.55751865 0.72304026 0.50909863]\n",
      "  [0.73747862 0.0286102  0.74537959]\n",
      "  [0.40803099 0.76386545 0.05452122]]\n",
      "\n",
      " [[0.0593286  0.82667853 0.31723178]\n",
      "  [0.48749345 0.39453679 0.31217869]\n",
      "  [0.67676411 0.27174679 0.82209596]\n",
      "  [0.28013962 0.65594564 0.84556987]]\n",
      "\n",
      " [[0.03721867 0.74035546 0.15778054]\n",
      "  [0.49299055 0.86277012 0.41344847]\n",
      "  [0.47597808 0.09882955 0.3587035 ]\n",
      "  [0.50339262 0.69822318 0.76688185]]\n",
      "\n",
      " [[0.64189647 0.75518266 0.51424422]\n",
      "  [0.51051195 0.37311005 0.65380283]\n",
      "  [0.32166671 0.7018091  0.04364284]\n",
      "  [0.78522117 0.30308271 0.77535559]]]\n"
     ]
    }
   ],
   "source": [
    "# create a tensor  of datatype FLOAT with random numbers\n",
    "tens = np.random.rand(4, 4, 3)\n",
    "print(tens)"
   ]
  },
  {
   "cell_type": "code",
   "execution_count": 130,
   "metadata": {},
   "outputs": [
    {
     "name": "stdout",
     "output_type": "stream",
     "text": [
      "tens1= array([[[0.36630863, 0.68631887, 0.01565036],\n",
      "        [0.69703601, 0.65003359, 0.58298811],\n",
      "        [0.84520359, 0.51764558, 0.78927148]],\n",
      "\n",
      "       [[0.25705375, 0.05560606, 0.46822957],\n",
      "        [0.62504831, 0.64438211, 0.00771054],\n",
      "        [0.17811533, 0.52881037, 0.3183259 ]],\n",
      "\n",
      "       [[0.76744529, 0.82833531, 0.17938175],\n",
      "        [0.63908088, 0.16263693, 0.96894826],\n",
      "        [0.09607401, 0.36870507, 0.32426375]]])\n",
      "\n",
      "tens2= array([[[10, 10, 10],\n",
      "        [10, 10, 10],\n",
      "        [10, 10, 10]],\n",
      "\n",
      "       [[10, 10, 10],\n",
      "        [10, 10, 10],\n",
      "        [10, 10, 10]],\n",
      "\n",
      "       [[10, 10, 10],\n",
      "        [10, 10, 10],\n",
      "        [10, 10, 10]]])\n",
      "\n",
      "*** Operations [SAME SHAPE]:\n",
      "Addition [[[10.36630863 10.68631887 10.01565036]\n",
      "  [10.69703601 10.65003359 10.58298811]\n",
      "  [10.84520359 10.51764558 10.78927148]]\n",
      "\n",
      " [[10.25705375 10.05560606 10.46822957]\n",
      "  [10.62504831 10.64438211 10.00771054]\n",
      "  [10.17811533 10.52881037 10.3183259 ]]\n",
      "\n",
      " [[10.76744529 10.82833531 10.17938175]\n",
      "  [10.63908088 10.16263693 10.96894826]\n",
      "  [10.09607401 10.36870507 10.32426375]]]\n",
      "\n",
      "Substraction [[[-9.63369137 -9.31368113 -9.98434964]\n",
      "  [-9.30296399 -9.34996641 -9.41701189]\n",
      "  [-9.15479641 -9.48235442 -9.21072852]]\n",
      "\n",
      " [[-9.74294625 -9.94439394 -9.53177043]\n",
      "  [-9.37495169 -9.35561789 -9.99228946]\n",
      "  [-9.82188467 -9.47118963 -9.6816741 ]]\n",
      "\n",
      " [[-9.23255471 -9.17166469 -9.82061825]\n",
      "  [-9.36091912 -9.83736307 -9.03105174]\n",
      "  [-9.90392599 -9.63129493 -9.67573625]]]\n",
      "\n",
      "Multiplication [[[3.66308632 6.86318867 0.15650365]\n",
      "  [6.9703601  6.50033587 5.82988107]\n",
      "  [8.45203587 5.17645576 7.89271477]]\n",
      "\n",
      " [[2.5705375  0.55606057 4.68229574]\n",
      "  [6.25048314 6.44382107 0.07710536]\n",
      "  [1.78115331 5.28810366 3.18325904]]\n",
      "\n",
      " [[7.67445291 8.28335313 1.79381748]\n",
      "  [6.39080877 1.62636934 9.68948264]\n",
      "  [0.96074015 3.68705073 3.24263753]]]\n",
      "\n",
      "Floating-Division [[[0.03663086 0.06863189 0.00156504]\n",
      "  [0.0697036  0.06500336 0.05829881]\n",
      "  [0.08452036 0.05176456 0.07892715]]\n",
      "\n",
      " [[0.02570538 0.00556061 0.04682296]\n",
      "  [0.06250483 0.06443821 0.00077105]\n",
      "  [0.01781153 0.05288104 0.03183259]]\n",
      "\n",
      " [[0.07674453 0.08283353 0.01793817]\n",
      "  [0.06390809 0.01626369 0.09689483]\n",
      "  [0.0096074  0.03687051 0.03242638]]]\n",
      "\n",
      "Floor-division [[[0. 0. 0.]\n",
      "  [0. 0. 0.]\n",
      "  [0. 0. 0.]]\n",
      "\n",
      " [[0. 0. 0.]\n",
      "  [0. 0. 0.]\n",
      "  [0. 0. 0.]]\n",
      "\n",
      " [[0. 0. 0.]\n",
      "  [0. 0. 0.]\n",
      "  [0. 0. 0.]]]\n",
      "\n",
      "Exponentiation [[[4.34982238e-05 2.31877909e-02 8.81545424e-19]\n",
      "  [2.70739827e-02 1.34697015e-02 4.53520532e-03]\n",
      "  [1.86042992e-01 1.38141785e-03 9.38132292e-02]]\n",
      "\n",
      " [[1.25961970e-06 2.82631791e-13 5.06510452e-04]\n",
      "  [9.10198007e-03 1.23433977e-02 7.42754952e-22]\n",
      "  [3.21375682e-08 1.71001374e-03 1.06836539e-05]]\n",
      "\n",
      " [[7.08719298e-02 1.52076379e-01 3.44970940e-08]\n",
      "  [1.13647066e-02 1.29476745e-08 7.29467405e-01]\n",
      "  [6.69976235e-11 4.64291924e-05 1.28523944e-05]]]\n",
      "\n"
     ]
    }
   ],
   "source": [
    "# 3x3x3 tensor\n",
    "tens1 = np.random.rand(3, 3, 3)\n",
    "\n",
    "# 3x3x3 tensor\n",
    "tens2 = np.full((3, 3, 3), fill_value=10)\n",
    "\n",
    "print(f'{tens1= }\\n')\n",
    "print(f'{tens2= }\\n')\n",
    "\n",
    "# mathematical operations\n",
    "print('*** Operations [SAME SHAPE]:')\n",
    "print(f'Addition {tens1 + tens2}\\n')\n",
    "print(f'Substraction {tens1 - tens2}\\n')\n",
    "print(f'Multiplication {tens1 * tens2}\\n')\n",
    "print(f'Floating-Division {tens1 / tens2}\\n')\n",
    "print(f'Floor-division {tens1 // tens2}\\n')\n",
    "print(f'Exponentiation {tens1 ** tens2}\\n')\n"
   ]
  },
  {
   "cell_type": "code",
   "execution_count": 134,
   "metadata": {},
   "outputs": [
    {
     "name": "stdout",
     "output_type": "stream",
     "text": [
      "*** Operations [DIFFERENT SHAPE]:\n",
      "Addition [[[10.79265921 10.37261188 10.84342127]\n",
      "  [10.34385819 10.30170798 10.92431941]\n",
      "  [10.44695521 10.79412037 10.1879996 ]]\n",
      "\n",
      " [[10.62241825 10.65666218 10.9696987 ]\n",
      "  [10.49985525 10.62889179 10.89185928]\n",
      "  [10.99310107 10.82904468 10.1255038 ]]\n",
      "\n",
      " [[10.005127   10.7012184  10.1785276 ]\n",
      "  [10.7382065  10.84800818 10.59651606]\n",
      "  [10.64268561 10.83908903 10.83298714]]]\n",
      "\n",
      "Substraction [[[-9.20734079 -9.62738812 -9.15657873]\n",
      "  [-9.65614181 -9.69829202 -9.07568059]\n",
      "  [-9.55304479 -9.20587963 -9.8120004 ]]\n",
      "\n",
      " [[-9.37758175 -9.34333782 -9.0303013 ]\n",
      "  [-9.50014475 -9.37110821 -9.10814072]\n",
      "  [-9.00689893 -9.17095532 -9.8744962 ]]\n",
      "\n",
      " [[-9.994873   -9.2987816  -9.8214724 ]\n",
      "  [-9.2617935  -9.15199182 -9.40348394]\n",
      "  [-9.35731439 -9.16091097 -9.16701286]]]\n",
      "\n",
      "Multiplication [[[7.92659207 3.72611876 8.43421271]\n",
      "  [3.43858195 3.01707977 9.24319407]\n",
      "  [4.4695521  7.94120368 1.87999597]]\n",
      "\n",
      " [[6.2241825  6.56662183 9.69698704]\n",
      "  [4.9985525  6.28891789 8.91859282]\n",
      "  [9.93101068 8.2904468  1.25503802]]\n",
      "\n",
      " [[0.05126997 7.012184   1.78527604]\n",
      "  [7.38206502 8.48008184 5.96516063]\n",
      "  [6.42685612 8.39089034 8.32987145]]]\n",
      "\n",
      "Floating-Division [[[0.07926592 0.03726119 0.08434213]\n",
      "  [0.03438582 0.0301708  0.09243194]\n",
      "  [0.04469552 0.07941204 0.01879996]]\n",
      "\n",
      " [[0.06224183 0.06566622 0.09696987]\n",
      "  [0.04998553 0.06288918 0.08918593]\n",
      "  [0.09931011 0.08290447 0.01255038]]\n",
      "\n",
      " [[0.0005127  0.07012184 0.01785276]\n",
      "  [0.07382065 0.08480082 0.05965161]\n",
      "  [0.06426856 0.0839089  0.08329871]]]\n",
      "\n",
      "Floor-division [[[0. 0. 0.]\n",
      "  [0. 0. 0.]\n",
      "  [0. 0. 0.]]\n",
      "\n",
      " [[0. 0. 0.]\n",
      "  [0. 0. 0.]\n",
      "  [0. 0. 0.]]\n",
      "\n",
      " [[0. 0. 0.]\n",
      "  [0. 0. 0.]\n",
      "  [0. 0. 0.]]]\n",
      "\n"
     ]
    }
   ],
   "source": [
    "# 3x3x3 tensor\n",
    "tens1 = np.random.rand(3, 3, 3)\n",
    "\n",
    "# 2x4x3 tensor\n",
    "tens2 = np.full((3, 3, 3), fill_value=10)\n",
    "\n",
    "# mathematical operations\n",
    "print('*** Operations [DIFFERENT SHAPE]:')\n",
    "print(f'Addition {np.add(tens1, tens2)}\\n')\n",
    "print(f'Substraction {np.subtract(tens1, tens2)}\\n')\n",
    "print(f'Multiplication {np.multiply(tens1, tens2)}\\n')\n",
    "print(f'Floating-Division {np.divide(tens1, tens2)}\\n')\n",
    "print(f'Floor-division {np.floor_divide(tens1, tens2)}\\n')"
   ]
  },
  {
   "cell_type": "markdown",
   "metadata": {},
   "source": [
    "# Accessing data"
   ]
  },
  {
   "cell_type": "markdown",
   "metadata": {},
   "source": [
    "Numpy arrays are indexed such as *lists*, thus to access data indeces must be used."
   ]
  },
  {
   "cell_type": "code",
   "execution_count": 95,
   "metadata": {},
   "outputs": [
    {
     "name": "stdout",
     "output_type": "stream",
     "text": [
      "values at index 0 : 0\n",
      "values at index -1 : 7\n",
      "values from index 1 to index 5: [1 2 3 4 5]\n"
     ]
    }
   ],
   "source": [
    "# vector with values == index\n",
    "vector = np.array([0,1,2,3,4,5,6,7])\n",
    "\n",
    "\n",
    "# accessing values \n",
    "print(f'values at index 0 : {vector[0]}')\n",
    "print(f'values at index -1 : {vector[-1]}')\n",
    "print(f'values from index 1 to index 5: {vector[1:6]}')"
   ]
  },
  {
   "cell_type": "markdown",
   "metadata": {},
   "source": [
    "Accessing data is also useful to assign data"
   ]
  },
  {
   "cell_type": "code",
   "execution_count": 96,
   "metadata": {},
   "outputs": [
    {
     "name": "stdout",
     "output_type": "stream",
     "text": [
      "before data assignment [0 1 2 3 4 5 6 7]\n",
      "after data assignment [0 1 4 3 4 5 6 7]\n"
     ]
    }
   ],
   "source": [
    "# vector with values == index\n",
    "vector = np.array([0,1,2,3,4,5,6,7])\n",
    "\n",
    "print(f'before data assignment {vector}')\n",
    "\n",
    "# assigning values \n",
    "vector[2] = 4\n",
    "\n",
    "print(f'after data assignment {vector}')\n"
   ]
  },
  {
   "cell_type": "markdown",
   "metadata": {},
   "source": [
    "Determine **where two data sequences, with same shape, have similar values**"
   ]
  },
  {
   "cell_type": "code",
   "execution_count": 98,
   "metadata": {},
   "outputs": [
    {
     "name": "stdout",
     "output_type": "stream",
     "text": [
      "[ True  True  True  True  True False  True  True]\n"
     ]
    }
   ],
   "source": [
    "vector1 = np.array([0,1,2,3,4,5,6,7])\n",
    "vector2 = vector1.copy()\n",
    "vector2[5] = 4 # changed only a value\n",
    "\n",
    "print(vector1 == vector2)\n"
   ]
  },
  {
   "cell_type": "code",
   "execution_count": 101,
   "metadata": {},
   "outputs": [
    {
     "data": {
      "text/plain": [
       "array([[0],\n",
       "       [1],\n",
       "       [2],\n",
       "       [3],\n",
       "       [4],\n",
       "       [6],\n",
       "       [7]])"
      ]
     },
     "execution_count": 101,
     "metadata": {},
     "output_type": "execute_result"
    }
   ],
   "source": [
    "# give indices where vector1 == vector 2\n",
    "np.argwhere(vector1 == vector2)"
   ]
  },
  {
   "cell_type": "code",
   "execution_count": 103,
   "metadata": {},
   "outputs": [
    {
     "data": {
      "text/plain": [
       "array([[5]])"
      ]
     },
     "execution_count": 103,
     "metadata": {},
     "output_type": "execute_result"
    }
   ],
   "source": [
    "# give indices where vector1 != vector 2\n",
    "np.argwhere(vector1 != vector2)"
   ]
  },
  {
   "cell_type": "markdown",
   "metadata": {},
   "source": [
    "# array statistics"
   ]
  },
  {
   "cell_type": "code",
   "execution_count": 113,
   "metadata": {},
   "outputs": [
    {
     "name": "stdout",
     "output_type": "stream",
     "text": [
      "max value:\n",
      "0.9756543722449613\n",
      "\n",
      "max for each row (axis 0):\n",
      "[[0.67353148 0.89164368]\n",
      " [0.73447081 0.97565437]\n",
      " [0.82195787 0.84887257]]\n",
      "\n",
      "max for each col (axis 1):\n",
      "[[0.63347825 0.89164368]\n",
      " [0.73447081 0.97565437]\n",
      " [0.82195787 0.70747575]]\n",
      "\n",
      "max for each channel (axis 2):\n",
      "[[0.89164368 0.25079231 0.22323158]\n",
      " [0.67353148 0.97565437 0.84887257]\n",
      " [0.5006708  0.15960951 0.82195787]]\n",
      "\n"
     ]
    }
   ],
   "source": [
    "# define the array\n",
    "arr = np.random.rand(3, 3, 2)\n",
    "\n",
    "# get statistics\n",
    "print(f'max value:\\n{(np.max(arr))}\\n')\n",
    "print(f'max for each row (axis 0):\\n{(np.max(arr, axis=0))}\\n')\n",
    "print(f'max for each col (axis 1):\\n{(np.max(arr, axis=1))}\\n')\n",
    "print(f'max for each channel (axis 2):\\n{(np.max(arr, axis=2))}\\n')\n"
   ]
  },
  {
   "cell_type": "code",
   "execution_count": 165,
   "metadata": {},
   "outputs": [
    {
     "name": "stdout",
     "output_type": "stream",
     "text": [
      "sum value:\n",
      "9.051757754237956\n",
      "\n",
      "max value:\n",
      "0.961936378547229\n",
      "\n",
      "min value:\n",
      "0.016429629591474204\n",
      "\n",
      "average value:\n",
      "0.5028754307909975\n",
      "\n",
      "median value:\n",
      "0.5683342694390877\n",
      "\n",
      "Standard deviation value:\n",
      "0.3105515819574633\n",
      "\n"
     ]
    }
   ],
   "source": [
    "# define the array\n",
    "arr = np.random.rand(3, 3, 2)\n",
    "\n",
    "# other statistics\n",
    "print(f'sum value:\\n{(np.sum(arr))}\\n')\n",
    "print(f'max value:\\n{(np.max(arr))}\\n')\n",
    "print(f'min value:\\n{(np.min(arr))}\\n')\n",
    "print(f'average value:\\n{(np.mean(arr))}\\n')\n",
    "print(f'median value:\\n{(np.median(arr))}\\n')\n",
    "print(f'Standard deviation value:\\n{(np.std(arr))}\\n')\n"
   ]
  },
  {
   "cell_type": "markdown",
   "metadata": {},
   "source": [
    "### correlation coefficient (*r*)"
   ]
  },
  {
   "cell_type": "markdown",
   "metadata": {},
   "source": [
    "It could be usefull to test correlation among variables to understand it they are either**positivelly**, **negativelly** correlated among each other or **not correlated**. The key statistics for this test is the [*Piearson correlation (r)*](https://en.wikipedia.org/wiki/Pearson_correlation_coefficient)"
   ]
  },
  {
   "cell_type": "code",
   "execution_count": 163,
   "metadata": {},
   "outputs": [
    {
     "name": "stdout",
     "output_type": "stream",
     "text": [
      "Correlation Coefficient Matrix:\n",
      "[[1.         0.98531038]\n",
      " [0.98531038 1.        ]]\n",
      "\n",
      "Correlation Coefficient between data1 and data2:\n",
      "0.9853103832101714\n"
     ]
    },
    {
     "data": {
      "image/png": "[encoded data removed]",
      "text/plain": [
       "<Figure size 640x480 with 1 Axes>"
      ]
     },
     "metadata": {},
     "output_type": "display_data"
    }
   ],
   "source": [
    "# Generate two sets of random data\n",
    "np.random.seed(0)  # use seed for reproducibility\n",
    "data1 = np.random.rand(100)\n",
    "data2 = 2 * data1 + np.random.normal(0, 0.1, 100)  # Strongly correlated with some noise\n",
    "\n",
    "# Compute the correlation coefficient matrix\n",
    "corr_matrix = np.corrcoef(data1, data2)\n",
    "\n",
    "# Print the correlation coefficient matrix\n",
    "print(\"Correlation Coefficient Matrix:\")\n",
    "print(corr_matrix)\n",
    "\n",
    "# Extract the correlation coefficient between data1 and data2\n",
    "corr_coefficient = corr_matrix[0, 1]\n",
    "print(\"\\nCorrelation Coefficient between data1 and data2:\")\n",
    "print(corr_coefficient)\n",
    "\n",
    "\n",
    "plt.plot(data1, data2, 'o')\n",
    "plt.title(f'r={corr_coefficient: .3f}')\n",
    "plt.grid()\n",
    "plt.show()"
   ]
  },
  {
   "cell_type": "markdown",
   "metadata": {},
   "source": [
    "# PyAgri Focus"
   ]
  },
  {
   "cell_type": "markdown",
   "metadata": {},
   "source": [
    "A `scalar` can represent a single value, such as the **average temperature of a specific day**."
   ]
  },
  {
   "cell_type": "code",
   "execution_count": 82,
   "metadata": {},
   "outputs": [
    {
     "name": "stdout",
     "output_type": "stream",
     "text": [
      "Average Temperature: 25.600000381469727\n"
     ]
    }
   ],
   "source": [
    "# Scalar: Average temperature of the day\n",
    "average_temperature = np.float32(25.6)\n",
    "\n",
    "print(f\"Average Temperature: {average_temperature}\")"
   ]
  },
  {
   "cell_type": "markdown",
   "metadata": {},
   "source": [
    "A `vector` can represent a one-dimensional array of values, such as the **rainfall recorded over a week**."
   ]
  },
  {
   "cell_type": "code",
   "execution_count": 83,
   "metadata": {},
   "outputs": [
    {
     "name": "stdout",
     "output_type": "stream",
     "text": [
      "Rainfall over a week: [10.2  5.8 12.1  0.   7.3  6.5  8. ]\n"
     ]
    }
   ],
   "source": [
    "# Vector: Rainfall over a week (in mm)\n",
    "rainfall_week = np.array([10.2, 5.8, 12.1, 0.0, 7.3, 6.5, 8.0], dtype='float32')\n",
    "print(f\"Rainfall over a week: {rainfall_week}\")"
   ]
  },
  {
   "cell_type": "markdown",
   "metadata": {},
   "source": [
    "A `matrix` can represent a two-dimensional array of values, such as the **soil moisture levels at different depths for several locations**."
   ]
  },
  {
   "cell_type": "code",
   "execution_count": 84,
   "metadata": {},
   "outputs": [
    {
     "name": "stdout",
     "output_type": "stream",
     "text": [
      "Soil Moisture Levels (locations x depths):\n",
      "[[12.5 14.3 15.8]\n",
      " [11.2 13.7 14.9]\n",
      " [13.1 15.4 16.3]\n",
      " [12.8 14.1 15. ]]\n"
     ]
    }
   ],
   "source": [
    "# Matrix: Soil moisture levels (in percentage) at different depths (columns) for 4 locations (rows)\n",
    "soil_moisture = np.array([[12.5, 14.3, 15.8],\n",
    "                          [11.2, 13.7, 14.9],\n",
    "                          [13.1, 15.4, 16.3],\n",
    "                          [12.8, 14.1, 15.0]], dtype='float32')\n",
    "\n",
    "print(\"Soil Moisture Levels (locations x depths):\")\n",
    "print(soil_moisture)"
   ]
  },
  {
   "cell_type": "markdown",
   "metadata": {},
   "source": [
    "A `tensor` can represent a multi-dimensional array of values, such as **satellite images over time where each image has multiple spectral bands**."
   ]
  },
  {
   "cell_type": "code",
   "execution_count": 85,
   "metadata": {},
   "outputs": [
    {
     "name": "stdout",
     "output_type": "stream",
     "text": [
      "Satellite Images (time x height x width x spectral bands):\n",
      "[[[[0.40196651 0.34230783 0.95597852 0.3193096 ]\n",
      "   [0.58816349 0.1989718  0.70914267 0.55657764]]\n",
      "\n",
      "  [[0.76840169 0.92937252 0.42490114 0.55591149]\n",
      "   [0.47937262 0.29259835 0.13562749 0.26061886]]]\n",
      "\n",
      "\n",
      " [[[0.49312814 0.75172792 0.28649811 0.91960722]\n",
      "   [0.65321907 0.51332    0.28720406 0.38360143]]\n",
      "\n",
      "  [[0.85162056 0.18614726 0.89772304 0.67809747]\n",
      "   [0.05191331 0.1747572  0.07834507 0.98735923]]]\n",
      "\n",
      "\n",
      " [[[0.08639852 0.86261414 0.2683187  0.46997177]\n",
      "   [0.77181907 0.73012338 0.77429207 0.54071858]]\n",
      "\n",
      "  [[0.13959231 0.20219605 0.39388671 0.51152684]\n",
      "   [0.90252734 0.40029031 0.39808507 0.84965885]]]]\n"
     ]
    }
   ],
   "source": [
    "# Tensor: Satellite images (time x height x width x spectral bands)\n",
    "\n",
    "# Example tensor with 3 time steps, 2x2 image size, and 4 spectral bands\n",
    "satellite_images = np.random.rand(3, 2, 2, 4)\n",
    "print(\"Satellite Images (time x height x width x spectral bands):\")\n",
    "print(satellite_images)"
   ]
  },
  {
   "cell_type": "markdown",
   "metadata": {},
   "source": [
    "To access the spectral data of **day 1**:"
   ]
  },
  {
   "cell_type": "code",
   "execution_count": 129,
   "metadata": {},
   "outputs": [
    {
     "name": "stdout",
     "output_type": "stream",
     "text": [
      "First day spectral data:\n",
      "\n",
      "[[[0.40196651 0.34230783 0.95597852 0.3193096 ]\n",
      "  [0.58816349 0.1989718  0.70914267 0.55657764]]\n",
      "\n",
      " [[0.76840169 0.92937252 0.42490114 0.55591149]\n",
      "  [0.47937262 0.29259835 0.13562749 0.26061886]]]\n",
      "\n",
      "maximum reflectance of each day:\n",
      "[[[0.95597852 0.70914267]\n",
      "  [0.92937252 0.47937262]]\n",
      "\n",
      " [[0.91960722 0.65321907]\n",
      "  [0.89772304 0.98735923]]\n",
      "\n",
      " [[0.86261414 0.77429207]\n",
      "  [0.51152684 0.90252734]]]\n"
     ]
    }
   ],
   "source": [
    "day_one = satellite_images[0]\n",
    "\n",
    "print(f'First day spectral data:\\n\\n{day_one}')\n",
    "print(f'\\nmaximum reflectance of each day:\\n{np.max(satellite_images, axis=3)}')  # maximum row and column values"
   ]
  }
 ],
 "metadata": {
  "kernelspec": {
   "display_name": "venv",
   "language": "python",
   "name": "python3"
  },
  "language_info": {
   "codemirror_mode": {
    "name": "ipython",
    "version": 3
   },
   "file_extension": ".py",
   "mimetype": "text/x-python",
   "name": "python",
   "nbconvert_exporter": "python",
   "pygments_lexer": "ipython3",
   "version": "3.10.12"
  }
 },
 "nbformat": 4,
 "nbformat_minor": 2
}
